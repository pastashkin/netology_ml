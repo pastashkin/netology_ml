{
 "cells": [
  {
   "cell_type": "markdown",
   "metadata": {},
   "source": [
    "### Домашнее задание \"Рекомендации на основе содержания\"\n",
    "Преподаватель: Алексей Кузьмин\n",
    "- Использовать dataset MovieLens\n",
    "- Построить рекомендации (регрессия, предсказываем оценку) на фичах:\n",
    "    - TF-IDF на тегах и жанрах\n",
    "    - Средние оценки (+ median, variance, etc.) пользователя и фильма\n",
    "- Оценить RMSE на тестовой выборке"
   ]
  },
  {
   "cell_type": "code",
   "execution_count": 1,
   "metadata": {},
   "outputs": [],
   "source": [
    "import pandas as pd\n",
    "import numpy as np\n",
    "from sklearn.feature_extraction.text import TfidfTransformer, CountVectorizer\n",
    "from sklearn.model_selection import train_test_split\n",
    "from sklearn.linear_model import Lasso\n",
    "from sklearn.preprocessing import StandardScaler\n",
    "from sklearn.metrics import mean_squared_error\n",
    "from sklearn.model_selection import cross_val_score"
   ]
  },
  {
   "cell_type": "code",
   "execution_count": 2,
   "metadata": {},
   "outputs": [],
   "source": [
    "links = pd.read_csv('./data/links.csv')\n",
    "movies = pd.read_csv('./data/movies.csv')\n",
    "ratings = pd.read_csv('./data/ratings.csv')\n",
    "tags = pd.read_csv('./data/tags.csv')"
   ]
  },
  {
   "cell_type": "markdown",
   "metadata": {},
   "source": [
    "### 1. Собираем очевидные фичи"
   ]
  },
  {
   "cell_type": "code",
   "execution_count": 3,
   "metadata": {},
   "outputs": [],
   "source": [
    "# Собираем все фильмы и оценки\n",
    "df = ratings.join(movies.set_index('movieId'), on='movieId')"
   ]
  },
  {
   "cell_type": "code",
   "execution_count": 4,
   "metadata": {},
   "outputs": [],
   "source": [
    "# Оставляем только те фильмы, по которым есть теги\n",
    "movies_with_tags = tags.movieId.unique()\n",
    "df = df[df.movieId.isin(movies_with_tags)]"
   ]
  },
  {
   "cell_type": "code",
   "execution_count": 5,
   "metadata": {},
   "outputs": [],
   "source": [
    "# Агрегируем по фильму и считаем среднюю оценку и количество оценок\n",
    "df_agg = df.groupby(by='movieId').agg(['mean', 'count', 'var']).rating.reset_index()\n",
    "\n",
    "# Считаем статистики по количеству оценок\n",
    "mean_num_ratigs = df_agg['count'].mean()\n",
    "min_num_ratigs = df_agg['count'].min()\n",
    "max_num_ratigs = df_agg['count'].max()\n",
    "\n",
    "# Взвешиваем рейтинг по нормированному количеству оценок\n",
    "df_agg['weighted_rating'] = df_agg.apply(lambda x: x['mean'] * (x['count'] - mean_num_ratigs) / (max_num_ratigs - min_num_ratigs), axis=1)"
   ]
  },
  {
   "cell_type": "code",
   "execution_count": 6,
   "metadata": {},
   "outputs": [],
   "source": [
    "# Добавляем жанры\n",
    "df_agg = df_agg.merge(movies, on='movieId', how='left')"
   ]
  },
  {
   "cell_type": "code",
   "execution_count": 7,
   "metadata": {},
   "outputs": [],
   "source": [
    "# Собираем все теги по каждому фильму\n",
    "grouped_tags = tags.groupby(by='movieId')\n",
    "\n",
    "film_tags = {}\n",
    "for key, value in grouped_tags.groups.items():\n",
    "    film_tags[key] = tags.loc[value.values].tag.tolist()"
   ]
  },
  {
   "cell_type": "code",
   "execution_count": 8,
   "metadata": {},
   "outputs": [],
   "source": [
    "# Добавляем тэги\n",
    "df_agg['tags'] = df_agg.apply(lambda x: film_tags[x.movieId], axis=1)"
   ]
  },
  {
   "cell_type": "code",
   "execution_count": 9,
   "metadata": {},
   "outputs": [],
   "source": [
    "# Причесываем жанры\n",
    "df_agg.genres = df_agg.apply(lambda x: x.genres.split('|'), axis=1)"
   ]
  },
  {
   "cell_type": "code",
   "execution_count": 10,
   "metadata": {},
   "outputs": [],
   "source": [
    "df_agg['full_tags'] = df_agg.apply(lambda x: x.genres + x.tags, axis=1)"
   ]
  },
  {
   "cell_type": "code",
   "execution_count": 11,
   "metadata": {},
   "outputs": [],
   "source": [
    "df_agg['full_tags'] = df_agg.apply(lambda x: ' '.join(x.full_tags), axis=1)"
   ]
  },
  {
   "cell_type": "code",
   "execution_count": 12,
   "metadata": {},
   "outputs": [
    {
     "data": {
      "text/html": [
       "<div>\n",
       "<style scoped>\n",
       "    .dataframe tbody tr th:only-of-type {\n",
       "        vertical-align: middle;\n",
       "    }\n",
       "\n",
       "    .dataframe tbody tr th {\n",
       "        vertical-align: top;\n",
       "    }\n",
       "\n",
       "    .dataframe thead th {\n",
       "        text-align: right;\n",
       "    }\n",
       "</style>\n",
       "<table border=\"1\" class=\"dataframe\">\n",
       "  <thead>\n",
       "    <tr style=\"text-align: right;\">\n",
       "      <th></th>\n",
       "      <th>movieId</th>\n",
       "      <th>mean</th>\n",
       "      <th>count</th>\n",
       "      <th>var</th>\n",
       "      <th>weighted_rating</th>\n",
       "      <th>title</th>\n",
       "      <th>full_tags</th>\n",
       "    </tr>\n",
       "  </thead>\n",
       "  <tbody>\n",
       "    <tr>\n",
       "      <th>0</th>\n",
       "      <td>1</td>\n",
       "      <td>3.920930</td>\n",
       "      <td>215</td>\n",
       "      <td>0.696990</td>\n",
       "      <td>2.198677</td>\n",
       "      <td>Toy Story (1995)</td>\n",
       "      <td>Adventure Animation Children Comedy Fantasy pi...</td>\n",
       "    </tr>\n",
       "    <tr>\n",
       "      <th>1</th>\n",
       "      <td>2</td>\n",
       "      <td>3.431818</td>\n",
       "      <td>110</td>\n",
       "      <td>0.777419</td>\n",
       "      <td>0.825805</td>\n",
       "      <td>Jumanji (1995)</td>\n",
       "      <td>Adventure Children Fantasy fantasy magic board...</td>\n",
       "    </tr>\n",
       "    <tr>\n",
       "      <th>2</th>\n",
       "      <td>3</td>\n",
       "      <td>3.259615</td>\n",
       "      <td>52</td>\n",
       "      <td>1.112651</td>\n",
       "      <td>0.207972</td>\n",
       "      <td>Grumpier Old Men (1995)</td>\n",
       "      <td>Comedy Romance moldy old</td>\n",
       "    </tr>\n",
       "    <tr>\n",
       "      <th>3</th>\n",
       "      <td>5</td>\n",
       "      <td>3.071429</td>\n",
       "      <td>49</td>\n",
       "      <td>0.822917</td>\n",
       "      <td>0.167873</td>\n",
       "      <td>Father of the Bride Part II (1995)</td>\n",
       "      <td>Comedy pregnancy remake</td>\n",
       "    </tr>\n",
       "    <tr>\n",
       "      <th>4</th>\n",
       "      <td>7</td>\n",
       "      <td>3.185185</td>\n",
       "      <td>54</td>\n",
       "      <td>0.955625</td>\n",
       "      <td>0.222645</td>\n",
       "      <td>Sabrina (1995)</td>\n",
       "      <td>Comedy Romance remake</td>\n",
       "    </tr>\n",
       "  </tbody>\n",
       "</table>\n",
       "</div>"
      ],
      "text/plain": [
       "   movieId      mean  count       var  weighted_rating  \\\n",
       "0        1  3.920930    215  0.696990         2.198677   \n",
       "1        2  3.431818    110  0.777419         0.825805   \n",
       "2        3  3.259615     52  1.112651         0.207972   \n",
       "3        5  3.071429     49  0.822917         0.167873   \n",
       "4        7  3.185185     54  0.955625         0.222645   \n",
       "\n",
       "                                title  \\\n",
       "0                    Toy Story (1995)   \n",
       "1                      Jumanji (1995)   \n",
       "2             Grumpier Old Men (1995)   \n",
       "3  Father of the Bride Part II (1995)   \n",
       "4                      Sabrina (1995)   \n",
       "\n",
       "                                           full_tags  \n",
       "0  Adventure Animation Children Comedy Fantasy pi...  \n",
       "1  Adventure Children Fantasy fantasy magic board...  \n",
       "2                           Comedy Romance moldy old  \n",
       "3                            Comedy pregnancy remake  \n",
       "4                              Comedy Romance remake  "
      ]
     },
     "execution_count": 12,
     "metadata": {},
     "output_type": "execute_result"
    }
   ],
   "source": [
    "# Готово. Красиво.\n",
    "df_agg.drop(columns=['genres', 'tags'], inplace=True)\n",
    "df_agg.head()"
   ]
  },
  {
   "cell_type": "markdown",
   "metadata": {},
   "source": [
    "### 2. Обработаем текстовые фичи"
   ]
  },
  {
   "cell_type": "code",
   "execution_count": 13,
   "metadata": {},
   "outputs": [],
   "source": [
    "all_tags = df_agg.full_tags.tolist()"
   ]
  },
  {
   "cell_type": "code",
   "execution_count": 14,
   "metadata": {},
   "outputs": [],
   "source": [
    "countvect = CountVectorizer()\n",
    "tfidf = TfidfTransformer()"
   ]
  },
  {
   "cell_type": "code",
   "execution_count": 15,
   "metadata": {},
   "outputs": [],
   "source": [
    "all_films = countvect.fit_transform(all_tags)\n",
    "all_films_tfidf = tfidf.fit_transform(all_films)"
   ]
  },
  {
   "cell_type": "code",
   "execution_count": 16,
   "metadata": {},
   "outputs": [],
   "source": [
    "all_films_tfidf = all_films_tfidf.toarray()"
   ]
  },
  {
   "cell_type": "code",
   "execution_count": 17,
   "metadata": {},
   "outputs": [],
   "source": [
    "tfidf_data = pd.DataFrame(all_films_tfidf, index=df_agg.movieId, columns=['t_'+str(i) for i in range(len(all_films_tfidf[0]))])"
   ]
  },
  {
   "cell_type": "code",
   "execution_count": 18,
   "metadata": {},
   "outputs": [],
   "source": [
    "df_full = df_agg.merge(tfidf_data, on='movieId')"
   ]
  },
  {
   "cell_type": "markdown",
   "metadata": {},
   "source": [
    "Здесь у нас готовы данные по всем фильмам. Дальше берем конкретного пользователя и строим для него персональные рекомендации регрессионной моделью."
   ]
  },
  {
   "cell_type": "markdown",
   "metadata": {},
   "source": [
    "### 3. Выбираем пользователя и делаем train-test split"
   ]
  },
  {
   "cell_type": "code",
   "execution_count": 19,
   "metadata": {},
   "outputs": [],
   "source": [
    "df_full_to_train = df_full.drop(columns=['title', 'full_tags']).set_index('movieId')"
   ]
  },
  {
   "cell_type": "code",
   "execution_count": 20,
   "metadata": {},
   "outputs": [],
   "source": [
    "df_full_to_train = df_full_to_train.fillna(value=df_full_to_train['var'].mean())"
   ]
  },
  {
   "cell_type": "code",
   "execution_count": 21,
   "metadata": {},
   "outputs": [
    {
     "data": {
      "text/plain": [
       "array([ 1,  2,  3,  4,  5,  6,  7,  8,  9, 10])"
      ]
     },
     "execution_count": 21,
     "metadata": {},
     "output_type": "execute_result"
    }
   ],
   "source": [
    "# Мы усекли датафрейм только теми фильмами, у которых есть теги.\n",
    "# Следовательно рекомендовать мы сможем только юзерам, которые оставляли теги. Найдем таких.\n",
    "users = ratings[ratings.movieId.isin(movies_with_tags)].userId.unique()\n",
    "users[:10]"
   ]
  },
  {
   "cell_type": "code",
   "execution_count": 22,
   "metadata": {},
   "outputs": [
    {
     "data": {
      "text/plain": [
       "232"
      ]
     },
     "execution_count": 22,
     "metadata": {},
     "output_type": "execute_result"
    }
   ],
   "source": [
    "# Вот сколько фильмов оценил наш тестовый пользователь. Берем его.\n",
    "ratings.userId.value_counts()[1]"
   ]
  },
  {
   "cell_type": "code",
   "execution_count": 23,
   "metadata": {},
   "outputs": [],
   "source": [
    "user_films = ratings[(ratings.userId == 1) & ratings.movieId.isin(movies_with_tags)].drop(columns='timestamp')"
   ]
  },
  {
   "cell_type": "code",
   "execution_count": 24,
   "metadata": {},
   "outputs": [],
   "source": [
    "user_films = user_films.join(df_full_to_train, on='movieId')"
   ]
  },
  {
   "cell_type": "code",
   "execution_count": 25,
   "metadata": {},
   "outputs": [],
   "source": [
    "X = user_films.drop(columns=['userId', 'rating']).set_index('movieId')\n",
    "y = user_films.loc[:, user_films.columns.isin(['movieId', 'rating'])].set_index('movieId')"
   ]
  },
  {
   "cell_type": "code",
   "execution_count": 30,
   "metadata": {},
   "outputs": [],
   "source": [
    "X_train, X_test, y_train, y_test = train_test_split(X, y, test_size=0.2)"
   ]
  },
  {
   "cell_type": "code",
   "execution_count": 31,
   "metadata": {},
   "outputs": [],
   "source": [
    "lm = Lasso(alpha=0.001, max_iter=1000, normalize=True, tol=0.0001)"
   ]
  },
  {
   "cell_type": "code",
   "execution_count": 32,
   "metadata": {},
   "outputs": [
    {
     "data": {
      "text/plain": [
       "Lasso(alpha=0.001, copy_X=True, fit_intercept=True, max_iter=1000,\n",
       "   normalize=True, positive=False, precompute=False, random_state=None,\n",
       "   selection='cyclic', tol=0.0001, warm_start=False)"
      ]
     },
     "execution_count": 32,
     "metadata": {},
     "output_type": "execute_result"
    }
   ],
   "source": [
    "lm.fit(X_train, y_train)"
   ]
  },
  {
   "cell_type": "code",
   "execution_count": 33,
   "metadata": {},
   "outputs": [
    {
     "data": {
      "text/plain": [
       "1.0391748177647273"
      ]
     },
     "execution_count": 33,
     "metadata": {},
     "output_type": "execute_result"
    }
   ],
   "source": [
    "#Наша средняя ошибка составляет\n",
    "mean_squared_error(y_test, lm.predict(X_test))"
   ]
  },
  {
   "cell_type": "code",
   "execution_count": 35,
   "metadata": {},
   "outputs": [
    {
     "data": {
      "text/plain": [
       "-0.8154798854998084"
      ]
     },
     "execution_count": 35,
     "metadata": {},
     "output_type": "execute_result"
    }
   ],
   "source": [
    "# Проверим на кросс-валидации\n",
    "cross_val_score(lm, X, y, scoring='neg_mean_squared_error', cv=5).mean()"
   ]
  },
  {
   "cell_type": "code",
   "execution_count": 36,
   "metadata": {},
   "outputs": [
    {
     "data": {
      "text/plain": [
       "Lasso(alpha=0.001, copy_X=True, fit_intercept=True, max_iter=1000,\n",
       "   normalize=True, positive=False, precompute=False, random_state=None,\n",
       "   selection='cyclic', tol=0.0001, warm_start=False)"
      ]
     },
     "execution_count": 36,
     "metadata": {},
     "output_type": "execute_result"
    }
   ],
   "source": [
    "lm.fit(X, y)"
   ]
  },
  {
   "cell_type": "markdown",
   "metadata": {},
   "source": [
    "### 4. Рекомендация"
   ]
  },
  {
   "cell_type": "code",
   "execution_count": 37,
   "metadata": {},
   "outputs": [
    {
     "data": {
      "text/plain": [
       "array([   1,    3,   47,   50,  101,  110,  216,  223,  235,  260,  296,\n",
       "        316,  349,  356,  457,  480,  500,  527,  543,  552,  590,  592,\n",
       "        593,  596,  608,  648,  673,  733,  736,  780,  919,  923,  940,\n",
       "        943,  954, 1025, 1029, 1030, 1032, 1042, 1080, 1089, 1090, 1097,\n",
       "       1136, 1196, 1197, 1198, 1206, 1208, 1210, 1213, 1214, 1219, 1220,\n",
       "       1222, 1224, 1240, 1258, 1270, 1278, 1282, 1291, 1348, 1377, 1396,\n",
       "       1408, 1500, 1573, 1580, 1617, 1625, 1732, 1777, 1954, 2028, 2054,\n",
       "       2058, 2078, 2115, 2116, 2139, 2268, 2291, 2329, 2387, 2470, 2502,\n",
       "       2529, 2571, 2616, 2628, 2640, 2641, 2648, 2692, 2700, 2716, 2761,\n",
       "       2797, 2872, 2959, 2987, 3052, 3147, 3176, 3247, 3273, 3386, 3489,\n",
       "       3527, 3578, 3671, 3793])"
      ]
     },
     "execution_count": 37,
     "metadata": {},
     "output_type": "execute_result"
    }
   ],
   "source": [
    "user_films.movieId.unique()"
   ]
  },
  {
   "cell_type": "code",
   "execution_count": 38,
   "metadata": {},
   "outputs": [],
   "source": [
    "# Для начала из нашего подготовленного списка фильмов, фильмы, которые смотрел наш пользователь.\n",
    "X_rec = df_full_to_train.iloc[~df_full_to_train.index.isin(user_films.movieId.unique())]"
   ]
  },
  {
   "cell_type": "code",
   "execution_count": 39,
   "metadata": {},
   "outputs": [
    {
     "name": "stderr",
     "output_type": "stream",
     "text": [
      "/home/data/anaconda3/lib/python3.7/site-packages/ipykernel_launcher.py:1: SettingWithCopyWarning: \n",
      "A value is trying to be set on a copy of a slice from a DataFrame.\n",
      "Try using .loc[row_indexer,col_indexer] = value instead\n",
      "\n",
      "See the caveats in the documentation: http://pandas.pydata.org/pandas-docs/stable/indexing.html#indexing-view-versus-copy\n",
      "  \"\"\"Entry point for launching an IPython kernel.\n"
     ]
    }
   ],
   "source": [
    "X_rec['user_predicted_score'] = lm.predict(X_rec)"
   ]
  },
  {
   "cell_type": "code",
   "execution_count": 47,
   "metadata": {},
   "outputs": [],
   "source": [
    "personal_recomandations = X_rec[['user_predicted_score', 'mean', 'weighted_rating']].sort_values('user_predicted_score', ascending=False)"
   ]
  },
  {
   "cell_type": "code",
   "execution_count": 48,
   "metadata": {},
   "outputs": [
    {
     "data": {
      "text/html": [
       "<div>\n",
       "<style scoped>\n",
       "    .dataframe tbody tr th:only-of-type {\n",
       "        vertical-align: middle;\n",
       "    }\n",
       "\n",
       "    .dataframe tbody tr th {\n",
       "        vertical-align: top;\n",
       "    }\n",
       "\n",
       "    .dataframe thead th {\n",
       "        text-align: right;\n",
       "    }\n",
       "</style>\n",
       "<table border=\"1\" class=\"dataframe\">\n",
       "  <thead>\n",
       "    <tr style=\"text-align: right;\">\n",
       "      <th></th>\n",
       "      <th>userId</th>\n",
       "      <th>movieId</th>\n",
       "      <th>rating</th>\n",
       "      <th>timestamp</th>\n",
       "      <th>title</th>\n",
       "      <th>genres</th>\n",
       "    </tr>\n",
       "  </thead>\n",
       "  <tbody>\n",
       "    <tr>\n",
       "      <th>161</th>\n",
       "      <td>1</td>\n",
       "      <td>2492</td>\n",
       "      <td>4.0</td>\n",
       "      <td>965719662</td>\n",
       "      <td>20 Dates (1998)</td>\n",
       "      <td>Comedy|Romance</td>\n",
       "    </tr>\n",
       "    <tr>\n",
       "      <th>119</th>\n",
       "      <td>1</td>\n",
       "      <td>2012</td>\n",
       "      <td>4.0</td>\n",
       "      <td>964984176</td>\n",
       "      <td>Back to the Future Part III (1990)</td>\n",
       "      <td>Adventure|Comedy|Sci-Fi|Western</td>\n",
       "    </tr>\n",
       "    <tr>\n",
       "      <th>160</th>\n",
       "      <td>1</td>\n",
       "      <td>2478</td>\n",
       "      <td>4.0</td>\n",
       "      <td>964984169</td>\n",
       "      <td>¡Three Amigos! (1986)</td>\n",
       "      <td>Comedy|Western</td>\n",
       "    </tr>\n",
       "    <tr>\n",
       "      <th>31</th>\n",
       "      <td>1</td>\n",
       "      <td>553</td>\n",
       "      <td>5.0</td>\n",
       "      <td>964984153</td>\n",
       "      <td>Tombstone (1993)</td>\n",
       "      <td>Action|Drama|Western</td>\n",
       "    </tr>\n",
       "    <tr>\n",
       "      <th>95</th>\n",
       "      <td>1</td>\n",
       "      <td>1445</td>\n",
       "      <td>3.0</td>\n",
       "      <td>964984112</td>\n",
       "      <td>McHale's Navy (1997)</td>\n",
       "      <td>Comedy|War</td>\n",
       "    </tr>\n",
       "    <tr>\n",
       "      <th>9</th>\n",
       "      <td>1</td>\n",
       "      <td>157</td>\n",
       "      <td>5.0</td>\n",
       "      <td>964984100</td>\n",
       "      <td>Canadian Bacon (1995)</td>\n",
       "      <td>Comedy|War</td>\n",
       "    </tr>\n",
       "    <tr>\n",
       "      <th>42</th>\n",
       "      <td>1</td>\n",
       "      <td>780</td>\n",
       "      <td>3.0</td>\n",
       "      <td>964984086</td>\n",
       "      <td>Independence Day (a.k.a. ID4) (1996)</td>\n",
       "      <td>Action|Adventure|Sci-Fi|Thriller</td>\n",
       "    </tr>\n",
       "    <tr>\n",
       "      <th>201</th>\n",
       "      <td>1</td>\n",
       "      <td>3053</td>\n",
       "      <td>5.0</td>\n",
       "      <td>964984086</td>\n",
       "      <td>Messenger: The Story of Joan of Arc, The (1999)</td>\n",
       "      <td>Drama|War</td>\n",
       "    </tr>\n",
       "    <tr>\n",
       "      <th>90</th>\n",
       "      <td>1</td>\n",
       "      <td>1298</td>\n",
       "      <td>5.0</td>\n",
       "      <td>964984086</td>\n",
       "      <td>Pink Floyd: The Wall (1982)</td>\n",
       "      <td>Drama|Musical</td>\n",
       "    </tr>\n",
       "    <tr>\n",
       "      <th>214</th>\n",
       "      <td>1</td>\n",
       "      <td>3448</td>\n",
       "      <td>5.0</td>\n",
       "      <td>964984054</td>\n",
       "      <td>Good Morning, Vietnam (1987)</td>\n",
       "      <td>Comedy|Drama|War</td>\n",
       "    </tr>\n",
       "  </tbody>\n",
       "</table>\n",
       "</div>"
      ],
      "text/plain": [
       "     userId  movieId  rating  timestamp  \\\n",
       "161       1     2492     4.0  965719662   \n",
       "119       1     2012     4.0  964984176   \n",
       "160       1     2478     4.0  964984169   \n",
       "31        1      553     5.0  964984153   \n",
       "95        1     1445     3.0  964984112   \n",
       "9         1      157     5.0  964984100   \n",
       "42        1      780     3.0  964984086   \n",
       "201       1     3053     5.0  964984086   \n",
       "90        1     1298     5.0  964984086   \n",
       "214       1     3448     5.0  964984054   \n",
       "\n",
       "                                               title  \\\n",
       "161                                  20 Dates (1998)   \n",
       "119               Back to the Future Part III (1990)   \n",
       "160                            ¡Three Amigos! (1986)   \n",
       "31                                  Tombstone (1993)   \n",
       "95                              McHale's Navy (1997)   \n",
       "9                              Canadian Bacon (1995)   \n",
       "42              Independence Day (a.k.a. ID4) (1996)   \n",
       "201  Messenger: The Story of Joan of Arc, The (1999)   \n",
       "90                       Pink Floyd: The Wall (1982)   \n",
       "214                     Good Morning, Vietnam (1987)   \n",
       "\n",
       "                               genres  \n",
       "161                    Comedy|Romance  \n",
       "119   Adventure|Comedy|Sci-Fi|Western  \n",
       "160                    Comedy|Western  \n",
       "31               Action|Drama|Western  \n",
       "95                         Comedy|War  \n",
       "9                          Comedy|War  \n",
       "42   Action|Adventure|Sci-Fi|Thriller  \n",
       "201                         Drama|War  \n",
       "90                      Drama|Musical  \n",
       "214                  Comedy|Drama|War  "
      ]
     },
     "execution_count": 48,
     "metadata": {},
     "output_type": "execute_result"
    }
   ],
   "source": [
    "# Вот последнее, что оценил пользователь\n",
    "ratings[ratings.userId == 1].merge(movies.set_index('movieId'), on='movieId').sort_values('timestamp', ascending=False)[:10]"
   ]
  },
  {
   "cell_type": "code",
   "execution_count": 49,
   "metadata": {},
   "outputs": [],
   "source": [
    "# Фильмы про войну, вестерныб комедии - ОК."
   ]
  },
  {
   "cell_type": "code",
   "execution_count": 50,
   "metadata": {},
   "outputs": [
    {
     "data": {
      "text/html": [
       "<div>\n",
       "<style scoped>\n",
       "    .dataframe tbody tr th:only-of-type {\n",
       "        vertical-align: middle;\n",
       "    }\n",
       "\n",
       "    .dataframe tbody tr th {\n",
       "        vertical-align: top;\n",
       "    }\n",
       "\n",
       "    .dataframe thead th {\n",
       "        text-align: right;\n",
       "    }\n",
       "</style>\n",
       "<table border=\"1\" class=\"dataframe\">\n",
       "  <thead>\n",
       "    <tr style=\"text-align: right;\">\n",
       "      <th></th>\n",
       "      <th>user_predicted_score</th>\n",
       "      <th>mean</th>\n",
       "      <th>weighted_rating</th>\n",
       "      <th>title</th>\n",
       "      <th>genres</th>\n",
       "    </tr>\n",
       "    <tr>\n",
       "      <th>movieId</th>\n",
       "      <th></th>\n",
       "      <th></th>\n",
       "      <th></th>\n",
       "      <th></th>\n",
       "      <th></th>\n",
       "    </tr>\n",
       "  </thead>\n",
       "  <tbody>\n",
       "    <tr>\n",
       "      <th>6650</th>\n",
       "      <td>7.019803</td>\n",
       "      <td>3.333333</td>\n",
       "      <td>-0.285292</td>\n",
       "      <td>Kind Hearts and Coronets (1949)</td>\n",
       "      <td>Comedy|Drama</td>\n",
       "    </tr>\n",
       "    <tr>\n",
       "      <th>25825</th>\n",
       "      <td>6.384292</td>\n",
       "      <td>3.375000</td>\n",
       "      <td>-0.278568</td>\n",
       "      <td>Fury (1936)</td>\n",
       "      <td>Drama|Film-Noir</td>\n",
       "    </tr>\n",
       "    <tr>\n",
       "      <th>5088</th>\n",
       "      <td>6.295797</td>\n",
       "      <td>5.000000</td>\n",
       "      <td>-0.458426</td>\n",
       "      <td>Going Places (Valseuses, Les) (1974)</td>\n",
       "      <td>Comedy|Crime|Drama</td>\n",
       "    </tr>\n",
       "    <tr>\n",
       "      <th>4454</th>\n",
       "      <td>6.287986</td>\n",
       "      <td>5.000000</td>\n",
       "      <td>-0.458426</td>\n",
       "      <td>More (1998)</td>\n",
       "      <td>Animation|Drama|Sci-Fi|IMAX</td>\n",
       "    </tr>\n",
       "    <tr>\n",
       "      <th>40491</th>\n",
       "      <td>6.184801</td>\n",
       "      <td>5.000000</td>\n",
       "      <td>-0.458426</td>\n",
       "      <td>Match Factory Girl, The (Tulitikkutehtaan tytt...</td>\n",
       "      <td>Comedy|Drama</td>\n",
       "    </tr>\n",
       "    <tr>\n",
       "      <th>6732</th>\n",
       "      <td>6.181567</td>\n",
       "      <td>3.750000</td>\n",
       "      <td>-0.332386</td>\n",
       "      <td>Hello, Dolly! (1969)</td>\n",
       "      <td>Comedy|Musical|Romance</td>\n",
       "    </tr>\n",
       "    <tr>\n",
       "      <th>152711</th>\n",
       "      <td>6.179354</td>\n",
       "      <td>5.000000</td>\n",
       "      <td>-0.458426</td>\n",
       "      <td>Who Killed Chea Vichea? (2010)</td>\n",
       "      <td>Documentary</td>\n",
       "    </tr>\n",
       "    <tr>\n",
       "      <th>247</th>\n",
       "      <td>5.996276</td>\n",
       "      <td>3.928571</td>\n",
       "      <td>-0.120644</td>\n",
       "      <td>Heavenly Creatures (1994)</td>\n",
       "      <td>Crime|Drama</td>\n",
       "    </tr>\n",
       "    <tr>\n",
       "      <th>7834</th>\n",
       "      <td>5.992365</td>\n",
       "      <td>2.833333</td>\n",
       "      <td>-0.242498</td>\n",
       "      <td>After the Thin Man (1936)</td>\n",
       "      <td>Comedy|Crime|Mystery|Romance</td>\n",
       "    </tr>\n",
       "    <tr>\n",
       "      <th>947</th>\n",
       "      <td>5.985661</td>\n",
       "      <td>3.750000</td>\n",
       "      <td>-0.309520</td>\n",
       "      <td>My Man Godfrey (1936)</td>\n",
       "      <td>Comedy|Romance</td>\n",
       "    </tr>\n",
       "    <tr>\n",
       "      <th>1243</th>\n",
       "      <td>5.902442</td>\n",
       "      <td>3.968750</td>\n",
       "      <td>-0.182378</td>\n",
       "      <td>Rosencrantz and Guildenstern Are Dead (1990)</td>\n",
       "      <td>Comedy|Drama</td>\n",
       "    </tr>\n",
       "    <tr>\n",
       "      <th>2313</th>\n",
       "      <td>5.870450</td>\n",
       "      <td>4.029412</td>\n",
       "      <td>-0.172880</td>\n",
       "      <td>Elephant Man, The (1980)</td>\n",
       "      <td>Drama</td>\n",
       "    </tr>\n",
       "    <tr>\n",
       "      <th>120635</th>\n",
       "      <td>5.823862</td>\n",
       "      <td>2.700000</td>\n",
       "      <td>-0.214623</td>\n",
       "      <td>Taken 3 (2015)</td>\n",
       "      <td>Action|Crime|Thriller</td>\n",
       "    </tr>\n",
       "    <tr>\n",
       "      <th>3181</th>\n",
       "      <td>5.796519</td>\n",
       "      <td>3.916667</td>\n",
       "      <td>-0.299395</td>\n",
       "      <td>Titus (1999)</td>\n",
       "      <td>Drama</td>\n",
       "    </tr>\n",
       "    <tr>\n",
       "      <th>99764</th>\n",
       "      <td>5.787417</td>\n",
       "      <td>4.250000</td>\n",
       "      <td>-0.376704</td>\n",
       "      <td>It's Such a Beautiful Day (2012)</td>\n",
       "      <td>Animation|Comedy|Drama|Fantasy|Sci-Fi</td>\n",
       "    </tr>\n",
       "    <tr>\n",
       "      <th>4495</th>\n",
       "      <td>5.776216</td>\n",
       "      <td>5.000000</td>\n",
       "      <td>-0.458426</td>\n",
       "      <td>Crossing Delancey (1988)</td>\n",
       "      <td>Comedy|Romance</td>\n",
       "    </tr>\n",
       "    <tr>\n",
       "      <th>104879</th>\n",
       "      <td>5.772834</td>\n",
       "      <td>4.156250</td>\n",
       "      <td>-0.190994</td>\n",
       "      <td>Prisoners (2013)</td>\n",
       "      <td>Drama|Mystery|Thriller</td>\n",
       "    </tr>\n",
       "    <tr>\n",
       "      <th>158872</th>\n",
       "      <td>5.760546</td>\n",
       "      <td>3.642857</td>\n",
       "      <td>-0.267358</td>\n",
       "      <td>Sausage Party (2016)</td>\n",
       "      <td>Animation|Comedy</td>\n",
       "    </tr>\n",
       "    <tr>\n",
       "      <th>1188</th>\n",
       "      <td>5.743367</td>\n",
       "      <td>3.659091</td>\n",
       "      <td>-0.101213</td>\n",
       "      <td>Strictly Ballroom (1992)</td>\n",
       "      <td>Comedy|Romance</td>\n",
       "    </tr>\n",
       "    <tr>\n",
       "      <th>2693</th>\n",
       "      <td>5.719633</td>\n",
       "      <td>3.375000</td>\n",
       "      <td>-0.278568</td>\n",
       "      <td>Trekkies (1997)</td>\n",
       "      <td>Documentary</td>\n",
       "    </tr>\n",
       "  </tbody>\n",
       "</table>\n",
       "</div>"
      ],
      "text/plain": [
       "         user_predicted_score      mean  weighted_rating  \\\n",
       "movieId                                                    \n",
       "6650                 7.019803  3.333333        -0.285292   \n",
       "25825                6.384292  3.375000        -0.278568   \n",
       "5088                 6.295797  5.000000        -0.458426   \n",
       "4454                 6.287986  5.000000        -0.458426   \n",
       "40491                6.184801  5.000000        -0.458426   \n",
       "6732                 6.181567  3.750000        -0.332386   \n",
       "152711               6.179354  5.000000        -0.458426   \n",
       "247                  5.996276  3.928571        -0.120644   \n",
       "7834                 5.992365  2.833333        -0.242498   \n",
       "947                  5.985661  3.750000        -0.309520   \n",
       "1243                 5.902442  3.968750        -0.182378   \n",
       "2313                 5.870450  4.029412        -0.172880   \n",
       "120635               5.823862  2.700000        -0.214623   \n",
       "3181                 5.796519  3.916667        -0.299395   \n",
       "99764                5.787417  4.250000        -0.376704   \n",
       "4495                 5.776216  5.000000        -0.458426   \n",
       "104879               5.772834  4.156250        -0.190994   \n",
       "158872               5.760546  3.642857        -0.267358   \n",
       "1188                 5.743367  3.659091        -0.101213   \n",
       "2693                 5.719633  3.375000        -0.278568   \n",
       "\n",
       "                                                     title  \\\n",
       "movieId                                                      \n",
       "6650                       Kind Hearts and Coronets (1949)   \n",
       "25825                                          Fury (1936)   \n",
       "5088                  Going Places (Valseuses, Les) (1974)   \n",
       "4454                                           More (1998)   \n",
       "40491    Match Factory Girl, The (Tulitikkutehtaan tytt...   \n",
       "6732                                  Hello, Dolly! (1969)   \n",
       "152711                      Who Killed Chea Vichea? (2010)   \n",
       "247                              Heavenly Creatures (1994)   \n",
       "7834                             After the Thin Man (1936)   \n",
       "947                                  My Man Godfrey (1936)   \n",
       "1243          Rosencrantz and Guildenstern Are Dead (1990)   \n",
       "2313                              Elephant Man, The (1980)   \n",
       "120635                                      Taken 3 (2015)   \n",
       "3181                                          Titus (1999)   \n",
       "99764                     It's Such a Beautiful Day (2012)   \n",
       "4495                              Crossing Delancey (1988)   \n",
       "104879                                    Prisoners (2013)   \n",
       "158872                                Sausage Party (2016)   \n",
       "1188                              Strictly Ballroom (1992)   \n",
       "2693                                       Trekkies (1997)   \n",
       "\n",
       "                                        genres  \n",
       "movieId                                         \n",
       "6650                              Comedy|Drama  \n",
       "25825                          Drama|Film-Noir  \n",
       "5088                        Comedy|Crime|Drama  \n",
       "4454               Animation|Drama|Sci-Fi|IMAX  \n",
       "40491                             Comedy|Drama  \n",
       "6732                    Comedy|Musical|Romance  \n",
       "152711                             Documentary  \n",
       "247                                Crime|Drama  \n",
       "7834              Comedy|Crime|Mystery|Romance  \n",
       "947                             Comedy|Romance  \n",
       "1243                              Comedy|Drama  \n",
       "2313                                     Drama  \n",
       "120635                   Action|Crime|Thriller  \n",
       "3181                                     Drama  \n",
       "99764    Animation|Comedy|Drama|Fantasy|Sci-Fi  \n",
       "4495                            Comedy|Romance  \n",
       "104879                  Drama|Mystery|Thriller  \n",
       "158872                        Animation|Comedy  \n",
       "1188                            Comedy|Romance  \n",
       "2693                               Documentary  "
      ]
     },
     "execution_count": 50,
     "metadata": {},
     "output_type": "execute_result"
    }
   ],
   "source": [
    "personal_recomandations.merge(movies.set_index('movieId'), on='movieId')[:20]"
   ]
  },
  {
   "cell_type": "code",
   "execution_count": 51,
   "metadata": {},
   "outputs": [],
   "source": [
    "# Вроде неплохо\n",
    "# Готовим пайплайн, проводим A/B тесты"
   ]
  }
 ],
 "metadata": {
  "kernelspec": {
   "display_name": "Python 3",
   "language": "python",
   "name": "python3"
  },
  "language_info": {
   "codemirror_mode": {
    "name": "ipython",
    "version": 3
   },
   "file_extension": ".py",
   "mimetype": "text/x-python",
   "name": "python",
   "nbconvert_exporter": "python",
   "pygments_lexer": "ipython3",
   "version": "3.7.0"
  }
 },
 "nbformat": 4,
 "nbformat_minor": 2
}
