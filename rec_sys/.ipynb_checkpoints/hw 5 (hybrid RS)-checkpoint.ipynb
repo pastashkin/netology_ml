{
 "cells": [
  {
   "cell_type": "markdown",
   "metadata": {},
   "source": [
    "### Домашнее задание «Гибридные рекомендатльные системы»\n",
    "\n",
    "1. Датасет ml-latest\n",
    "2. Вспомнить подходы, которые мы разбирали\n",
    "3. Выбрать понравившийся подход к гибридным системам\n",
    "4. Написать свою"
   ]
  },
  {
   "cell_type": "code",
   "execution_count": 2,
   "metadata": {},
   "outputs": [],
   "source": [
    "import warnings\n",
    "warnings.filterwarnings('ignore')\n",
    "\n",
    "import pandas as pd\n",
    "import numpy as np\n",
    "\n",
    "from surprise import Dataset, Reader, KNNWithMeans, SVD\n",
    "from sklearn.linear_model import LinearRegression\n",
    "from sklearn.neighbors import NearestNeighbors\n",
    "from sklearn.metrics import mean_squared_error\n",
    "from sklearn.feature_extraction.text import CountVectorizer, TfidfTransformer\n",
    "from sklearn.model_selection import cross_val_score"
   ]
  },
  {
   "cell_type": "code",
   "execution_count": 3,
   "metadata": {},
   "outputs": [],
   "source": [
    "movies = pd.read_csv('./data/ml-latest/movies.csv')\n",
    "ratings = pd.read_csv('./data/ml-latest/ratings.csv')"
   ]
  },
  {
   "cell_type": "markdown",
   "metadata": {},
   "source": [
    "Я решил реализовать следующую гибридную рекомендательную систему возвращающую 5 наиболее релевантных фильмов.\n",
    "\n",
    "Вот шаги:\n",
    "1. Обучаю SVD и KNNWithMeans из библиотеки surprise.\n",
    "2. Обучаю kNN на жанрах\n",
    "3. Для конкретного пользователя проставляю рекомендации этих двух алгоритмов.\n",
    "4. На полученных на прошлом шаге рейтингах натренирую регрессию.\n",
    "5. Получу наиболее точные значения рейтинга для пользователя.\n",
    "6. Сформирую топ-5 наиболее релевантных для пользователя рекомендаций:\n",
    "    1. 1: Топ-1 из фильмов похожих на последний просмотренный фильм по жанрам\n",
    "    2. 2: Топ-1 из похожих на последний понравившийся фильм с максимальным рейтингом от пользователя.\n",
    "    3. 3-5: Топ-3 наиболее релевантных фильмаб не рекомендованных ранее"
   ]
  },
  {
   "cell_type": "code",
   "execution_count": 5,
   "metadata": {},
   "outputs": [],
   "source": [
    "ratings = pd.read_csv('./data/ratings.csv')\n",
    "movies = pd.read_csv('./data/movies.csv')"
   ]
  },
  {
   "cell_type": "code",
   "execution_count": 6,
   "metadata": {},
   "outputs": [],
   "source": [
    "movies['genres_nice'] = movies.apply(lambda x: ' '.join(x.genres.split('|')), axis=1)"
   ]
  },
  {
   "cell_type": "code",
   "execution_count": 7,
   "metadata": {},
   "outputs": [],
   "source": [
    "movies['genres_nice'] = movies.apply(lambda x: x.genres_nice.replace('Sci-Fi', 'SciFi'), axis=1)\n",
    "movies['genres_nice'] = movies.apply(lambda x: x.genres_nice.replace('Film-Noir', 'FilmNoir'), axis=1)\n",
    "movies['genres_nice'] = movies.apply(lambda x: x.genres_nice.replace('(no genres listed)', 'NoGenres'), axis=1)"
   ]
  },
  {
   "cell_type": "markdown",
   "metadata": {},
   "source": [
    "### Тренируем knn на жанрах"
   ]
  },
  {
   "cell_type": "code",
   "execution_count": 9,
   "metadata": {},
   "outputs": [],
   "source": [
    "genres_corpus = movies.genres_nice.tolist()"
   ]
  },
  {
   "cell_type": "code",
   "execution_count": 10,
   "metadata": {},
   "outputs": [],
   "source": [
    "cv = CountVectorizer()\n",
    "cv_genres_corpus = cv.fit_transform(genres_corpus)"
   ]
  },
  {
   "cell_type": "code",
   "execution_count": 11,
   "metadata": {},
   "outputs": [],
   "source": [
    "tfidf = TfidfTransformer()\n",
    "tfidf_cv_genres_corpus = tfidf.fit_transform(cv_genres_corpus)"
   ]
  },
  {
   "cell_type": "code",
   "execution_count": 12,
   "metadata": {},
   "outputs": [],
   "source": [
    "genre_list = cv.get_feature_names()"
   ]
  },
  {
   "cell_type": "code",
   "execution_count": 13,
   "metadata": {},
   "outputs": [],
   "source": [
    "df_tfidf = pd.DataFrame(tfidf_cv_genres_corpus.toarray(), index=movies.movieId, columns=genre_list)"
   ]
  },
  {
   "cell_type": "code",
   "execution_count": 15,
   "metadata": {},
   "outputs": [],
   "source": [
    "movies = movies.merge(df_tfidf, on='movieId')"
   ]
  },
  {
   "cell_type": "code",
   "execution_count": 16,
   "metadata": {},
   "outputs": [],
   "source": [
    "df = ratings.merge(movies.set_index('movieId'), on='movieId')"
   ]
  },
  {
   "cell_type": "code",
   "execution_count": 17,
   "metadata": {},
   "outputs": [],
   "source": [
    "knn_on_genres = NearestNeighbors(n_neighbors=20, n_jobs=-1)"
   ]
  },
  {
   "cell_type": "code",
   "execution_count": 18,
   "metadata": {},
   "outputs": [
    {
     "data": {
      "text/plain": [
       "NearestNeighbors(algorithm='auto', leaf_size=30, metric='minkowski',\n",
       "         metric_params=None, n_jobs=-1, n_neighbors=20, p=2, radius=1.0)"
      ]
     },
     "execution_count": 18,
     "metadata": {},
     "output_type": "execute_result"
    }
   ],
   "source": [
    "knn_on_genres.fit(movies.iloc[:,-len(genre_list):])"
   ]
  },
  {
   "cell_type": "markdown",
   "metadata": {},
   "source": [
    "### Тренируем SVD и KNNWithMeans для предсказания рейтинга"
   ]
  },
  {
   "cell_type": "code",
   "execution_count": 21,
   "metadata": {},
   "outputs": [],
   "source": [
    "surp_df = pd.DataFrame({\n",
    "    'uid': df.userId,\n",
    "    'iid': df.movieId,\n",
    "    'rating': df.rating\n",
    "})"
   ]
  },
  {
   "cell_type": "code",
   "execution_count": 22,
   "metadata": {},
   "outputs": [],
   "source": [
    "surp_reader = Reader(rating_scale=(df.rating.min(), df.rating.max()))"
   ]
  },
  {
   "cell_type": "code",
   "execution_count": 23,
   "metadata": {},
   "outputs": [],
   "source": [
    "surp_dataset = Dataset(surp_reader)"
   ]
  },
  {
   "cell_type": "code",
   "execution_count": 24,
   "metadata": {},
   "outputs": [],
   "source": [
    "surp_df = surp_dataset.load_from_df(surp_df, surp_reader)"
   ]
  },
  {
   "cell_type": "code",
   "execution_count": 25,
   "metadata": {},
   "outputs": [],
   "source": [
    "surp_df = surp_df.build_full_trainset()"
   ]
  },
  {
   "cell_type": "code",
   "execution_count": 26,
   "metadata": {},
   "outputs": [],
   "source": [
    "surp_SVD = SVD(n_epochs=10, lr_all=0.005, reg_all=0.4)"
   ]
  },
  {
   "cell_type": "code",
   "execution_count": 27,
   "metadata": {},
   "outputs": [
    {
     "data": {
      "text/plain": [
       "<surprise.prediction_algorithms.matrix_factorization.SVD at 0x7fc34f018588>"
      ]
     },
     "execution_count": 27,
     "metadata": {},
     "output_type": "execute_result"
    }
   ],
   "source": [
    "surp_SVD.fit(surp_df)"
   ]
  },
  {
   "cell_type": "code",
   "execution_count": 28,
   "metadata": {},
   "outputs": [],
   "source": [
    "surp_KNN = KNNWithMeans()"
   ]
  },
  {
   "cell_type": "code",
   "execution_count": 29,
   "metadata": {},
   "outputs": [
    {
     "name": "stdout",
     "output_type": "stream",
     "text": [
      "Computing the msd similarity matrix...\n",
      "Done computing similarity matrix.\n"
     ]
    },
    {
     "data": {
      "text/plain": [
       "<surprise.prediction_algorithms.knns.KNNWithMeans at 0x7fc34f018908>"
      ]
     },
     "execution_count": 29,
     "metadata": {},
     "output_type": "execute_result"
    }
   ],
   "source": [
    "surp_KNN.fit(surp_df)"
   ]
  },
  {
   "cell_type": "markdown",
   "metadata": {},
   "source": [
    "### Пишем саму функцию рекомендации"
   ]
  },
  {
   "cell_type": "code",
   "execution_count": 30,
   "metadata": {},
   "outputs": [],
   "source": [
    "# Пишем функцию рекомендации\n",
    "def recomendador(userId=1):\n",
    "    # выбираем рейтинги пользователя\n",
    "    user_ratings = df[df.userId == userId]\n",
    "\n",
    "    # knn ругается если не находит соседей, пишем заплатку\n",
    "    def knn_rec_rating(userId, movieId):\n",
    "        rating_knn = 0\n",
    "        try:\n",
    "            rating_knn = surp_KNN.estimate(userId, movieId)[0]\n",
    "        except:\n",
    "            rating_knn = user_ratings.rating.mean()\n",
    "        return rating_knn\n",
    "    \n",
    "    # получаем рекомендации двух алгоритмов\n",
    "    user_ratings['rating_svd'] = user_ratings.apply(lambda x: surp_SVD.estimate(userId, x.movieId), axis=1)\n",
    "    user_ratings['rating_knn'] = user_ratings.apply(lambda x: knn_rec_rating(userId, x.movieId), axis=1)\n",
    "    \n",
    "    # тренируем и оцениваем мета алгоритм\n",
    "    meta_algo = LinearRegression()\n",
    "    X = user_ratings[['rating_svd', 'rating_knn']]\n",
    "    y = user_ratings[['rating']]\n",
    "    print('Meta algorithm RMSE: ', cross_val_score(meta_algo, X, y, scoring='neg_mean_squared_error', cv=5).mean()*-1)\n",
    "    meta_algo.fit(X, y)\n",
    "    \n",
    "    # собираем фильмы для рекомендации - те, что не смотрел пользователь\n",
    "    user_not_viewed_films = movies[~movies.movieId.isin(user_ratings.movieId.tolist())]\n",
    "    \n",
    "    # для фильмов на рекомендацию проставляем рейтинги\n",
    "    user_not_viewed_films['rating_svd'] = user_not_viewed_films.apply(lambda x: surp_SVD.estimate(userId, x.movieId), axis=1)\n",
    "    user_not_viewed_films['rating_knn'] = user_not_viewed_films.apply(lambda x: knn_rec_rating(userId, x.movieId), axis=1)\n",
    "    user_not_viewed_films['rating'] = user_not_viewed_films.apply(lambda x: meta_algo.predict(np.array([[x[['rating_svd']][0]], \\\n",
    "                                                                                                        [x[['rating_knn']][0]]]).reshape(1,-1))[0][0], axis=1)\n",
    "    \n",
    "    # рекомендация 1 - лучший из наиболее похожих на последний просмотренный\n",
    "    knn_for_last_film = knn_on_genres.kneighbors(user_ratings.sort_values('timestamp', ascending=False).iloc[:1,-len(genre_list):], n_neighbors=20)[1][0]\n",
    "    last_relevant_movies = []\n",
    "    for each in knn_for_last_film:\n",
    "        last_relevant_movies.append(movies.ix[each].movieId)\n",
    "\n",
    "    rec_1 = user_not_viewed_films[user_not_viewed_films.movieId.isin(last_relevant_movies)].sort_values('rating', ascending=False).head(1)[['title', 'movieId', 'genres', 'rating']]\n",
    "\n",
    "    # рекомендация 2 - лучший из наиболее похожих на последний просмотренный и с максимальным рейтингом\n",
    "    knn_for_last_film = knn_on_genres.kneighbors(user_ratings.sort_values('timestamp', ascending=False).sort_values('rating', ascending=False).iloc[:1,-len(genre_list):], n_neighbors=20)[1][0]\n",
    "    last_relevant_movies = []\n",
    "    for each in knn_for_last_film:\n",
    "        last_relevant_movies.append(movies.ix[each].movieId)\n",
    "    last_relevant_movies.remove(rec_1.movieId.tolist()[0])\n",
    "    rec_2 = user_not_viewed_films[user_not_viewed_films.movieId.isin(last_relevant_movies)].sort_values('rating', ascending=False).head(1)[['title', 'movieId', 'genres', 'rating']]\n",
    "    \n",
    "    # рекомендация 3-5 - лучшие из оставшихся\n",
    "    rec_3 = user_not_viewed_films.drop(rec_1.index[0], axis=0).drop(rec_2.index[0], axis=0).sort_values('rating', ascending=False).head(3)[['title', 'movieId', 'genres', 'rating']]\n",
    "    \n",
    "    print('Вам стоит обратить внимание на эти фильмы')\n",
    "    return pd.concat([rec_1, rec_2, rec_3])"
   ]
  },
  {
   "cell_type": "code",
   "execution_count": 31,
   "metadata": {},
   "outputs": [
    {
     "name": "stdout",
     "output_type": "stream",
     "text": [
      "Meta algorithm RMSE:  0.7472553410304598\n",
      "Вам стоит обратить внимание на эти фильмы\n"
     ]
    },
    {
     "data": {
      "text/html": [
       "<div>\n",
       "<style scoped>\n",
       "    .dataframe tbody tr th:only-of-type {\n",
       "        vertical-align: middle;\n",
       "    }\n",
       "\n",
       "    .dataframe tbody tr th {\n",
       "        vertical-align: top;\n",
       "    }\n",
       "\n",
       "    .dataframe thead th {\n",
       "        text-align: right;\n",
       "    }\n",
       "</style>\n",
       "<table border=\"1\" class=\"dataframe\">\n",
       "  <thead>\n",
       "    <tr style=\"text-align: right;\">\n",
       "      <th></th>\n",
       "      <th>title</th>\n",
       "      <th>movieId</th>\n",
       "      <th>genres</th>\n",
       "      <th>rating</th>\n",
       "    </tr>\n",
       "  </thead>\n",
       "  <tbody>\n",
       "    <tr>\n",
       "      <th>2006</th>\n",
       "      <td>Run Silent Run Deep (1958)</td>\n",
       "      <td>2670</td>\n",
       "      <td>War</td>\n",
       "      <td>3.691260</td>\n",
       "    </tr>\n",
       "    <tr>\n",
       "      <th>3023</th>\n",
       "      <td>Alamo, The (1960)</td>\n",
       "      <td>4042</td>\n",
       "      <td>Action|Drama|War|Western</td>\n",
       "      <td>3.520069</td>\n",
       "    </tr>\n",
       "    <tr>\n",
       "      <th>4068</th>\n",
       "      <td>Exodus (1960)</td>\n",
       "      <td>5799</td>\n",
       "      <td>Drama|Romance|War</td>\n",
       "      <td>3.918672</td>\n",
       "    </tr>\n",
       "    <tr>\n",
       "      <th>2782</th>\n",
       "      <td>Hamlet (1990)</td>\n",
       "      <td>3723</td>\n",
       "      <td>Drama</td>\n",
       "      <td>3.908042</td>\n",
       "    </tr>\n",
       "    <tr>\n",
       "      <th>3989</th>\n",
       "      <td>Wasabi (2001)</td>\n",
       "      <td>5628</td>\n",
       "      <td>Action|Comedy|Crime|Drama|Thriller</td>\n",
       "      <td>3.897501</td>\n",
       "    </tr>\n",
       "  </tbody>\n",
       "</table>\n",
       "</div>"
      ],
      "text/plain": [
       "                           title  movieId                              genres  \\\n",
       "2006  Run Silent Run Deep (1958)     2670                                 War   \n",
       "3023           Alamo, The (1960)     4042            Action|Drama|War|Western   \n",
       "4068               Exodus (1960)     5799                   Drama|Romance|War   \n",
       "2782               Hamlet (1990)     3723                               Drama   \n",
       "3989               Wasabi (2001)     5628  Action|Comedy|Crime|Drama|Thriller   \n",
       "\n",
       "        rating  \n",
       "2006  3.691260  \n",
       "3023  3.520069  \n",
       "4068  3.918672  \n",
       "2782  3.908042  \n",
       "3989  3.897501  "
      ]
     },
     "execution_count": 31,
     "metadata": {},
     "output_type": "execute_result"
    }
   ],
   "source": [
    "recomendador(userId=6)"
   ]
  }
 ],
 "metadata": {
  "kernelspec": {
   "display_name": "Python 3",
   "language": "python",
   "name": "python3"
  },
  "language_info": {
   "codemirror_mode": {
    "name": "ipython",
    "version": 3
   },
   "file_extension": ".py",
   "mimetype": "text/x-python",
   "name": "python",
   "nbconvert_exporter": "python",
   "pygments_lexer": "ipython3",
   "version": "3.7.0"
  }
 },
 "nbformat": 4,
 "nbformat_minor": 2
}
