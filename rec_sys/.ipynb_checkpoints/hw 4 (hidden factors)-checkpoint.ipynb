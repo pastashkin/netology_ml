{
 "cells": [
  {
   "cell_type": "markdown",
   "metadata": {},
   "source": [
    "### Домашнее задание «Рекомендации на основе скрытых факторов»\n",
    "Требуется построить модель рекомендаций на основе скрытых факторов (implicit) на основе dataset’а https://grouplens.org/datasets/hetrec-2011/ (Delicious Bookmarks)"
   ]
  },
  {
   "cell_type": "code",
   "execution_count": 1,
   "metadata": {},
   "outputs": [],
   "source": [
    "import pandas as pd\n",
    "import numpy as np\n",
    "from surprise import SVD\n",
    "from surprise import Dataset\n",
    "from surprise import accuracy\n",
    "from surprise import Reader\n",
    "from surprise.model_selection import train_test_split\n",
    "import scipy.sparse as sparse\n",
    "from implicit.als import AlternatingLeastSquares"
   ]
  },
  {
   "cell_type": "code",
   "execution_count": 36,
   "metadata": {},
   "outputs": [],
   "source": [
    "user_taggedbookmarks = pd.read_csv('./data/Delicious Bookmarks/user_taggedbookmarks.dat', sep='\\t')"
   ]
  },
  {
   "cell_type": "code",
   "execution_count": 37,
   "metadata": {},
   "outputs": [],
   "source": [
    "added_bkmrks = user_taggedbookmarks.groupby(by=['userID', 'bookmarkID']).count().reset_index()[['userID', 'bookmarkID']]"
   ]
  },
  {
   "cell_type": "code",
   "execution_count": 38,
   "metadata": {},
   "outputs": [],
   "source": [
    "added_bkmrks['usr_num'] = added_bkmrks.userID.astype(\"category\").cat.codes\n",
    "added_bkmrks['bmk_num'] = added_bkmrks.bookmarkID.astype(\"category\").cat.codes"
   ]
  },
  {
   "cell_type": "code",
   "execution_count": 39,
   "metadata": {},
   "outputs": [
    {
     "data": {
      "text/html": [
       "<div>\n",
       "<style scoped>\n",
       "    .dataframe tbody tr th:only-of-type {\n",
       "        vertical-align: middle;\n",
       "    }\n",
       "\n",
       "    .dataframe tbody tr th {\n",
       "        vertical-align: top;\n",
       "    }\n",
       "\n",
       "    .dataframe thead th {\n",
       "        text-align: right;\n",
       "    }\n",
       "</style>\n",
       "<table border=\"1\" class=\"dataframe\">\n",
       "  <thead>\n",
       "    <tr style=\"text-align: right;\">\n",
       "      <th></th>\n",
       "      <th>userID</th>\n",
       "      <th>bookmarkID</th>\n",
       "      <th>usr_num</th>\n",
       "      <th>bmk_num</th>\n",
       "    </tr>\n",
       "  </thead>\n",
       "  <tbody>\n",
       "    <tr>\n",
       "      <th>0</th>\n",
       "      <td>8</td>\n",
       "      <td>1</td>\n",
       "      <td>0</td>\n",
       "      <td>0</td>\n",
       "    </tr>\n",
       "    <tr>\n",
       "      <th>1</th>\n",
       "      <td>8</td>\n",
       "      <td>2</td>\n",
       "      <td>0</td>\n",
       "      <td>1</td>\n",
       "    </tr>\n",
       "    <tr>\n",
       "      <th>2</th>\n",
       "      <td>8</td>\n",
       "      <td>7</td>\n",
       "      <td>0</td>\n",
       "      <td>2</td>\n",
       "    </tr>\n",
       "    <tr>\n",
       "      <th>3</th>\n",
       "      <td>8</td>\n",
       "      <td>8</td>\n",
       "      <td>0</td>\n",
       "      <td>3</td>\n",
       "    </tr>\n",
       "    <tr>\n",
       "      <th>4</th>\n",
       "      <td>8</td>\n",
       "      <td>9</td>\n",
       "      <td>0</td>\n",
       "      <td>4</td>\n",
       "    </tr>\n",
       "  </tbody>\n",
       "</table>\n",
       "</div>"
      ],
      "text/plain": [
       "   userID  bookmarkID  usr_num  bmk_num\n",
       "0       8           1        0        0\n",
       "1       8           2        0        1\n",
       "2       8           7        0        2\n",
       "3       8           8        0        3\n",
       "4       8           9        0        4"
      ]
     },
     "execution_count": 39,
     "metadata": {},
     "output_type": "execute_result"
    }
   ],
   "source": [
    "added_bkmrks.head()"
   ]
  },
  {
   "cell_type": "code",
   "execution_count": 40,
   "metadata": {},
   "outputs": [],
   "source": [
    "users = list(added_bkmrks.userID.unique())\n",
    "bkmrks = list(added_bkmrks.bookmarkID.unique())\n",
    "data = [1 for i in range(len(added_bkmrks))]"
   ]
  },
  {
   "cell_type": "code",
   "execution_count": 41,
   "metadata": {},
   "outputs": [],
   "source": [
    "rows = added_bkmrks.usr_num.astype(int)\n",
    "cols = added_bkmrks.bmk_num.astype(int)"
   ]
  },
  {
   "cell_type": "code",
   "execution_count": 42,
   "metadata": {},
   "outputs": [],
   "source": [
    "data_sparse = sparse.csr_matrix((data, (rows, cols)), shape=(len(users), len(bkmrks)))"
   ]
  },
  {
   "cell_type": "code",
   "execution_count": 43,
   "metadata": {},
   "outputs": [
    {
     "name": "stderr",
     "output_type": "stream",
     "text": [
      "100%|██████████| 15.0/15 [00:01<00:00,  8.61it/s]\n"
     ]
    }
   ],
   "source": [
    "model = AlternatingLeastSquares(factors=50)\n",
    "model.fit(data_sparse)"
   ]
  },
  {
   "cell_type": "code",
   "execution_count": 44,
   "metadata": {},
   "outputs": [],
   "source": [
    "user_num = 100\n",
    "\n",
    "user_items = data_sparse.T.tocsr()\n",
    "recommendations = model.recommend(user_num, user_items)"
   ]
  },
  {
   "cell_type": "code",
   "execution_count": 45,
   "metadata": {},
   "outputs": [
    {
     "data": {
      "text/plain": [
       "[(1458, 0.07693196),\n",
       " (4, 0.06071826),\n",
       " (3, 0.0594838),\n",
       " (86, 0.048334964),\n",
       " (1550, 0.042942036),\n",
       " (1459, 0.027911505),\n",
       " (1591, 0.02513282),\n",
       " (125, 0.02337068),\n",
       " (1561, 0.019855663),\n",
       " (335, 0.019712143)]"
      ]
     },
     "execution_count": 45,
     "metadata": {},
     "output_type": "execute_result"
    }
   ],
   "source": [
    "recommendations"
   ]
  },
  {
   "cell_type": "code",
   "execution_count": 46,
   "metadata": {},
   "outputs": [
    {
     "data": {
      "text/plain": [
       "array([1310, 1664, 1903, 2831, 2975, 3023, 5672, 6498, 6499, 6500, 6501,\n",
       "       6502, 6503, 6504, 6505, 6506, 6507, 6508, 6509, 6510, 6511, 6512,\n",
       "       6513, 6514, 6515, 6516, 6517, 6518, 6519, 6520, 6521, 6522, 6523,\n",
       "       6524, 6525, 6526, 6527, 6528, 6529, 6530, 6531, 6532, 6533, 6534,\n",
       "       6535, 6536, 6537, 6538, 6539, 6540, 6541, 6542, 6543, 6544, 6545,\n",
       "       6546, 6547, 6548, 6549, 6550, 6551, 6552, 6553, 6554, 6555, 6556,\n",
       "       6557, 6558, 6559, 6560, 6561, 6562, 6563, 6564, 6565, 6566, 6567,\n",
       "       6568, 6569, 6570])"
      ]
     },
     "execution_count": 46,
     "metadata": {},
     "output_type": "execute_result"
    }
   ],
   "source": [
    "added_bkmrks[added_bkmrks.usr_num == 100].bmk_num.unique()"
   ]
  },
  {
   "cell_type": "markdown",
   "metadata": {},
   "source": [
    "К сожалению не могу отобразить ссылки, т.к. у меня не получилось загрузить 'bookmarks.dat'.\n",
    "\n",
    "Что я только не пробовал и где я только не гуглил - пишет:\n",
    "\n",
    "'utf-8' codec can't decode byte 0xe3 in position 133: unexpected end of data"
   ]
  }
 ],
 "metadata": {
  "kernelspec": {
   "display_name": "Python 3",
   "language": "python",
   "name": "python3"
  },
  "language_info": {
   "codemirror_mode": {
    "name": "ipython",
    "version": 3
   },
   "file_extension": ".py",
   "mimetype": "text/x-python",
   "name": "python",
   "nbconvert_exporter": "python",
   "pygments_lexer": "ipython3",
   "version": "3.7.0"
  }
 },
 "nbformat": 4,
 "nbformat_minor": 2
}
