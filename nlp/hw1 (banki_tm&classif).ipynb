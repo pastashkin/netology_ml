{
 "cells": [
  {
   "cell_type": "code",
   "execution_count": 1,
   "metadata": {},
   "outputs": [],
   "source": [
    "import json\n",
    "\n",
    "import bz2\n",
    "from tqdm import tqdm_notebook\n",
    "from scipy import sparse\n",
    "import re"
   ]
  },
  {
   "cell_type": "code",
   "execution_count": 2,
   "metadata": {},
   "outputs": [
    {
     "name": "stdout",
     "output_type": "stream",
     "text": [
      "Populating the interactive namespace from numpy and matplotlib\n"
     ]
    }
   ],
   "source": [
    "import pandas as pd\n",
    "import numpy as np\n",
    "import nltk\n",
    "import matplotlib.pyplot as plt\n",
    "import seaborn as sns\n",
    "import warnings\n",
    "warnings.filterwarnings(\"ignore\")\n",
    "%matplotlib inline\n",
    "%pylab inline"
   ]
  },
  {
   "cell_type": "code",
   "execution_count": 3,
   "metadata": {
    "scrolled": true
   },
   "outputs": [
    {
     "data": {
      "application/vnd.jupyter.widget-view+json": {
       "model_id": "ba2c1d5efad94e3f996ac95d8d605525",
       "version_major": 2,
       "version_minor": 0
      },
      "text/plain": [
       "HBox(children=(IntProgress(value=1, bar_style='info', max=1), HTML(value='')))"
      ]
     },
     "metadata": {},
     "output_type": "display_data"
    },
    {
     "name": "stdout",
     "output_type": "stream",
     "text": [
      "\n"
     ]
    }
   ],
   "source": [
    "responses = []\n",
    "with bz2.BZ2File(r'C:\\Users\\astashkin.p.SLV\\Desktop\\data\\banki_responses.json.bz2', 'r') as thefile:\n",
    "    i = 0\n",
    "    for row in tqdm_notebook(thefile):\n",
    "        if i % 5 == 0:\n",
    "            resp = json.loads(row)\n",
    "            if not resp['rating_not_checked'] and (len(resp['text'].split()) > 0):\n",
    "                responses.append(resp)\n",
    "        i += 1"
   ]
  },
  {
   "cell_type": "markdown",
   "metadata": {},
   "source": [
    "#  Домашнее задание по NLP # 1 [100 баллов]\n",
    "## Классификация по тональности \n",
    "\n",
    "В этом домашнем задании вам предстоит классифицировать по тональности отзывы на банки с сайта banki.ru.\n",
    "\n",
    "Данные содержат непосредственно тексты отзывов, некоторую дополнительную информацию, а также оценку по шкале от 1 до 5. \n",
    "\n",
    "Тексты хранятся в json-ах в массиве responses.\n",
    "\n",
    "Посмотрим на пример отзыва:"
   ]
  },
  {
   "cell_type": "code",
   "execution_count": 4,
   "metadata": {},
   "outputs": [
    {
     "data": {
      "text/plain": [
       "{'city': 'г. Одинцово',\n",
       " 'rating_not_checked': False,\n",
       " 'title': 'Благодарность за обслуживание',\n",
       " 'num_comments': 3,\n",
       " 'bank_license': 'лицензия № 1623',\n",
       " 'author': 'ЯВИ',\n",
       " 'bank_name': 'ВТБ 24',\n",
       " 'datetime': '2015-06-01 16:55:09',\n",
       " 'text': 'Добрый день, уважаемые руководители! Мне нравится банк ВТБ 24. Радует, что всё\\xa0настолько скрупулёзно, такая степень защиты моих финансовых секретов, что диву даёшься. А ещё здесь работают профессионалы, которые внимательно относятся к собеседнику.  Благодарен тому, что в минуту поиска вариантов оплаты за коммунальные услуги, которые устроили бы меня, как пенсионера, встретился с одним из таких специалистов. Он настолько по-доброму отнёсся к моим вопросам, так быстро \"разгрёб эту кучу\", что я стал\\xa0 клиентом Телебанка. Без особых хлопот теперь провожу оплату всего за 0,6%. Мне это очень выгодно.  Ваш сотрудник настолько покорил своими качествами, что как-то разом пришли вот такие строки: Есть на свете ВТБ, Банк, не знающим сие. И работает в нём «спец», Хоть и молод, Но – мудрец! Парень точно – золотой. Вот родится же такой! Это – Шленский, Звать – Илья, Он - помощник для меня. Посоветует, поймёт, Всё, что надо - наберёт. И всегда поможет нам Рассчитаться по счетам. И поверь - то не реклама… Я ему не папа/мама, Чтоб лелеять и любить И за всё его хвалить.\\xa0 Просто встретил ЧЕ-ЛО-ВЕ-КА. Пожелать хочу успеха, Чтоб по службе быстро рос. Чтоб зарплата – целый«воз».\\xa0 ЛИЧНОСТЬ он  Для банка – БЛАГО. Для клиентов же - отрада. И, побольше бы таких: Умных, добрых, ЗОЛОТЫХ! 4 мая 2015 года. Ярин Владимир Иванович.',\n",
       " 'rating_grade': 5}"
      ]
     },
     "execution_count": 4,
     "metadata": {},
     "output_type": "execute_result"
    }
   ],
   "source": [
    "responses[99]"
   ]
  },
  {
   "cell_type": "markdown",
   "metadata": {},
   "source": [
    "## Часть 1. Анализ текстов [40/100]\n",
    "\n",
    "1. Посчитайте количество отзывов в разных городах и на разные банки\n",
    "2. Постройте гистограмы длин слов в символах и в словах\n",
    "3. Найдите 10 самых частых:\n",
    "    * слов\n",
    "    * слов без стоп-слов\n",
    "    * лемм \n",
    "    * существительных\n",
    "4. Постройте кривые Ципфа и Хипса\n",
    "5. Ответьте на следующие вопросы:\n",
    "    * какое слово встречается чаще, \"сотрудник\" или \"клиент\"?\n",
    "    * сколько раз встречается слова \"мошенничество\" и \"доверие\"?\n",
    "6. В поле \"rating_grade\" записана оценка отзыва по шкале от 1 до 5. Используйте меру $tf-idf$, для того, чтобы найти ключевые слова и биграмы для положительных отзывов (с оценкой 5) и отрицательных отзывов (с оценкой 1)"
   ]
  },
  {
   "cell_type": "markdown",
   "metadata": {},
   "source": [
    "1. Смотрим распределение отзывов по городам и банкакм. Посмотрим на гистограммы рейтингов и их распределения по городам и банкам. Но сперва собирем датасет."
   ]
  },
  {
   "cell_type": "code",
   "execution_count": 5,
   "metadata": {},
   "outputs": [],
   "source": [
    "df = pd.DataFrame(responses)"
   ]
  },
  {
   "cell_type": "code",
   "execution_count": 6,
   "metadata": {},
   "outputs": [
    {
     "data": {
      "text/html": [
       "<div>\n",
       "<style scoped>\n",
       "    .dataframe tbody tr th:only-of-type {\n",
       "        vertical-align: middle;\n",
       "    }\n",
       "\n",
       "    .dataframe tbody tr th {\n",
       "        vertical-align: top;\n",
       "    }\n",
       "\n",
       "    .dataframe thead th {\n",
       "        text-align: right;\n",
       "    }\n",
       "</style>\n",
       "<table border=\"1\" class=\"dataframe\">\n",
       "  <thead>\n",
       "    <tr style=\"text-align: right;\">\n",
       "      <th></th>\n",
       "      <th>author</th>\n",
       "      <th>bank_license</th>\n",
       "      <th>bank_name</th>\n",
       "      <th>city</th>\n",
       "      <th>datetime</th>\n",
       "      <th>num_comments</th>\n",
       "      <th>rating_grade</th>\n",
       "      <th>rating_not_checked</th>\n",
       "      <th>text</th>\n",
       "      <th>title</th>\n",
       "    </tr>\n",
       "  </thead>\n",
       "  <tbody>\n",
       "    <tr>\n",
       "      <th>0</th>\n",
       "      <td>uhnov1</td>\n",
       "      <td>лицензия № 2562</td>\n",
       "      <td>Бинбанк</td>\n",
       "      <td>г. Москва</td>\n",
       "      <td>2015-06-08 12:50:54</td>\n",
       "      <td>0</td>\n",
       "      <td>NaN</td>\n",
       "      <td>False</td>\n",
       "      <td>Добрый день! Я не являюсь клиентом банка и пор...</td>\n",
       "      <td>Жалоба</td>\n",
       "    </tr>\n",
       "    <tr>\n",
       "      <th>1</th>\n",
       "      <td>643609</td>\n",
       "      <td>лицензия № 1481</td>\n",
       "      <td>Сбербанк России</td>\n",
       "      <td>г. Ставрополь</td>\n",
       "      <td>2015-06-05 13:51:01</td>\n",
       "      <td>2</td>\n",
       "      <td>NaN</td>\n",
       "      <td>False</td>\n",
       "      <td>Добрый день!! Я открыл расчетный счет в СберБа...</td>\n",
       "      <td>Меняют проценты комиссии  не предупредив и не ...</td>\n",
       "    </tr>\n",
       "    <tr>\n",
       "      <th>2</th>\n",
       "      <td>Юля2015</td>\n",
       "      <td>лицензия № 1326</td>\n",
       "      <td>Альфа-Банк</td>\n",
       "      <td>г. Москва</td>\n",
       "      <td>2015-06-05 12:24:28</td>\n",
       "      <td>15</td>\n",
       "      <td>NaN</td>\n",
       "      <td>False</td>\n",
       "      <td>Вот даже и засомневалась, какую ставить оценку...</td>\n",
       "      <td>Повесили кредит</td>\n",
       "    </tr>\n",
       "    <tr>\n",
       "      <th>3</th>\n",
       "      <td>r1man</td>\n",
       "      <td>лицензия № 1326</td>\n",
       "      <td>Альфа-Банк</td>\n",
       "      <td>г. Санкт-Петербург</td>\n",
       "      <td>2015-06-05 13:11:29</td>\n",
       "      <td>0</td>\n",
       "      <td>NaN</td>\n",
       "      <td>False</td>\n",
       "      <td>Без оценки, т.к. несколько лет отличной работы...</td>\n",
       "      <td>Стечение обстоятельств</td>\n",
       "    </tr>\n",
       "    <tr>\n",
       "      <th>4</th>\n",
       "      <td>dubrowki</td>\n",
       "      <td>лицензия № 3349</td>\n",
       "      <td>Россельхозбанк</td>\n",
       "      <td>г. Конаково</td>\n",
       "      <td>2015-06-05 14:32:06</td>\n",
       "      <td>0</td>\n",
       "      <td>NaN</td>\n",
       "      <td>False</td>\n",
       "      <td>Хочется высказать по поводу режима работы банк...</td>\n",
       "      <td>Режим работы только для неработающих</td>\n",
       "    </tr>\n",
       "  </tbody>\n",
       "</table>\n",
       "</div>"
      ],
      "text/plain": [
       "     author     bank_license        bank_name                city  \\\n",
       "0    uhnov1  лицензия № 2562          Бинбанк           г. Москва   \n",
       "1    643609  лицензия № 1481  Сбербанк России       г. Ставрополь   \n",
       "2   Юля2015  лицензия № 1326       Альфа-Банк           г. Москва   \n",
       "3     r1man  лицензия № 1326       Альфа-Банк  г. Санкт-Петербург   \n",
       "4  dubrowki  лицензия № 3349   Россельхозбанк         г. Конаково   \n",
       "\n",
       "              datetime  num_comments  rating_grade  rating_not_checked  \\\n",
       "0  2015-06-08 12:50:54             0           NaN               False   \n",
       "1  2015-06-05 13:51:01             2           NaN               False   \n",
       "2  2015-06-05 12:24:28            15           NaN               False   \n",
       "3  2015-06-05 13:11:29             0           NaN               False   \n",
       "4  2015-06-05 14:32:06             0           NaN               False   \n",
       "\n",
       "                                                text  \\\n",
       "0  Добрый день! Я не являюсь клиентом банка и пор...   \n",
       "1  Добрый день!! Я открыл расчетный счет в СберБа...   \n",
       "2  Вот даже и засомневалась, какую ставить оценку...   \n",
       "3  Без оценки, т.к. несколько лет отличной работы...   \n",
       "4  Хочется высказать по поводу режима работы банк...   \n",
       "\n",
       "                                               title  \n",
       "0                                             Жалоба  \n",
       "1  Меняют проценты комиссии  не предупредив и не ...  \n",
       "2                                    Повесили кредит  \n",
       "3                             Стечение обстоятельств  \n",
       "4               Режим работы только для неработающих  "
      ]
     },
     "execution_count": 6,
     "metadata": {},
     "output_type": "execute_result"
    }
   ],
   "source": [
    "df.head()"
   ]
  },
  {
   "cell_type": "code",
   "execution_count": 7,
   "metadata": {},
   "outputs": [
    {
     "data": {
      "image/png": "[encoded data removed]",
      "text/plain": [
       "<Figure size 432x288 with 1 Axes>"
      ]
     },
     "metadata": {
      "needs_background": "light"
     },
     "output_type": "display_data"
    }
   ],
   "source": [
    "#Распределение рейтингов по отзывам. Без рейтинга исключены.\n",
    "sns.distplot(df.rating_grade.dropna(), bins=5)\n",
    "plt.show()"
   ]
  },
  {
   "cell_type": "markdown",
   "metadata": {},
   "source": [
    "Ожидаемо много негатива. Стоит задуматься о балансировке классов. Посмотрим на данные по городам и банкам"
   ]
  },
  {
   "cell_type": "code",
   "execution_count": 8,
   "metadata": {},
   "outputs": [
    {
     "data": {
      "text/plain": [
       "array(['Бинбанк', 'Сбербанк России', 'Альфа-Банк', 'Россельхозбанк',\n",
       "       'ВТБ 24', 'Лето Банк', 'Петрокоммерц', 'Татфондбанк',\n",
       "       'Тинькофф Банк', 'Уральский Банк Реконструкции и Развития',\n",
       "       'Русский Стандарт', 'Хоум Кредит Банк', 'Военно-Промышленный Банк',\n",
       "       'Ханты-Мансийский банк Открытие', 'Восточный Экспресс Банк',\n",
       "       'Ренессанс Кредит', 'Югра', 'ЮниКредит Банк',\n",
       "       'Национальный Банк «Траст»', 'РосинтерБанк'], dtype=object)"
      ]
     },
     "execution_count": 8,
     "metadata": {},
     "output_type": "execute_result"
    }
   ],
   "source": [
    "df.bank_name.unique()[:20]"
   ]
  },
  {
   "cell_type": "code",
   "execution_count": 9,
   "metadata": {},
   "outputs": [
    {
     "data": {
      "text/plain": [
       "array(['г.  (Москва)', 'г.  (Ханты-Мансийский автономный округ)', 'г. -',\n",
       "       'г. 140051, МО, Люберецкий район, Красково',\n",
       "       'г. 143420 Московская область, Красногорский район, посёлок дачного хозяйства Архангельское, д.4,кв.2',\n",
       "       'г. 2-я Гавриловка', 'г. :erjdcrbq (Москва)',\n",
       "       'г. ? видимо москва или новосибирск', 'г. Bremen (Москва)',\n",
       "       'г. Cанкт -Петербург', 'г. Cанкт-Петербург',\n",
       "       'г. Cанкт-Петербург (Ленинский пр)', 'г. Cаранск', 'г. Djkujuhfl',\n",
       "       'г. Khimki', 'г. MSK', 'г. Miami Beach', 'г. Moscow', 'г. Moskva',\n",
       "       'г. Naberezhnye Chelny'], dtype=object)"
      ]
     },
     "execution_count": 9,
     "metadata": {},
     "output_type": "execute_result"
    }
   ],
   "source": [
    "df.city.sort_values().unique()[:20]"
   ]
  },
  {
   "cell_type": "markdown",
   "metadata": {},
   "source": [
    "Как видим, наименования банков выбирались из списков, а город указывался пользователем. Визулизируем распределение отзывов по банкам."
   ]
  },
  {
   "cell_type": "code",
   "execution_count": 10,
   "metadata": {},
   "outputs": [
    {
     "data": {
      "image/png": "[encoded data removed]",
      "text/plain": [
       "<Figure size 720x360 with 1 Axes>"
      ]
     },
     "metadata": {
      "needs_background": "light"
     },
     "output_type": "display_data"
    }
   ],
   "source": [
    "plt.figure(figsize=(10,5))\n",
    "plt.plot(df.groupby(by='bank_name').count().sort_values(by='text', ascending=False)['text'][:20], 'o')\n",
    "plt.xticks(rotation=90)\n",
    "plt.show()"
   ]
  },
  {
   "cell_type": "code",
   "execution_count": 11,
   "metadata": {},
   "outputs": [],
   "source": [
    "city_plot = df.copy()\n",
    "city_plot = city_plot.fillna('Прочее')"
   ]
  },
  {
   "cell_type": "code",
   "execution_count": 12,
   "metadata": {},
   "outputs": [],
   "source": [
    "city_plot['city_clear'] = city_plot.apply(lambda x: x.city.lower(), axis=1)"
   ]
  },
  {
   "cell_type": "code",
   "execution_count": 13,
   "metadata": {},
   "outputs": [
    {
     "data": {
      "image/png": "[encoded data removed]",
      "text/plain": [
       "<Figure size 720x360 with 1 Axes>"
      ]
     },
     "metadata": {
      "needs_background": "light"
     },
     "output_type": "display_data"
    }
   ],
   "source": [
    "plt.figure(figsize=(10,5))\n",
    "plt.plot(city_plot.groupby(by='city_clear').count().sort_values(by='text', ascending=False)['text'][:20], 'o')\n",
    "plt.xticks(rotation=90)\n",
    "plt.show()"
   ]
  },
  {
   "cell_type": "markdown",
   "metadata": {},
   "source": [
    "Видим, что распределение отзывов сопоставимо с численностью населения в регионе. Также присутствует большое количество отзывов без указания адреса. Судя по всему, в поле адрес реализованы подсказки, но нет списочных значений и пользователь может указать что хочет."
   ]
  },
  {
   "cell_type": "markdown",
   "metadata": {},
   "source": [
    "2. Строим гистограммы распределения слов в отзывах и символов в словах"
   ]
  },
  {
   "cell_type": "code",
   "execution_count": 14,
   "metadata": {},
   "outputs": [],
   "source": [
    "regex = re.compile('[А-Яа-яЁё]+')\n",
    "df_low_text = df.text.str.lower()\n",
    "df_low_text = df_low_text.apply(lambda x: regex.findall(x))"
   ]
  },
  {
   "cell_type": "code",
   "execution_count": 15,
   "metadata": {},
   "outputs": [
    {
     "data": {
      "image/png": "[encoded data removed]",
      "text/plain": [
       "<Figure size 432x288 with 1 Axes>"
      ]
     },
     "metadata": {
      "needs_background": "light"
     },
     "output_type": "display_data"
    }
   ],
   "source": [
    "#Слова в отзыве\n",
    "plt.hist(df_low_text.apply(len)[df_low_text.apply(len) <= 1100], bins = 30)\n",
    "plt.show()"
   ]
  },
  {
   "cell_type": "code",
   "execution_count": 16,
   "metadata": {},
   "outputs": [
    {
     "data": {
      "text/plain": [
       "175.0"
      ]
     },
     "execution_count": 16,
     "metadata": {},
     "output_type": "execute_result"
    }
   ],
   "source": [
    "#Слов в медианном отзыве\n",
    "df_low_text.apply(len)[df_low_text.apply(len) <= 1100].median()"
   ]
  },
  {
   "cell_type": "code",
   "execution_count": 17,
   "metadata": {},
   "outputs": [],
   "source": [
    "# Собираем все слова с повторениями\n",
    "all_words_list = []\n",
    "for words in df_low_text:\n",
    "    for word in words:\n",
    "        all_words_list.append(word)"
   ]
  },
  {
   "cell_type": "code",
   "execution_count": 18,
   "metadata": {},
   "outputs": [
    {
     "data": {
      "image/png": "[encoded data removed]",
      "text/plain": [
       "<Figure size 432x288 with 1 Axes>"
      ]
     },
     "metadata": {
      "needs_background": "light"
     },
     "output_type": "display_data"
    }
   ],
   "source": [
    "# Распределение длин слов с повторениями\n",
    "plt.hist(list(map(len, all_words_list)), bins=50)\n",
    "plt.xlim(0, 20)\n",
    "plt.show()"
   ]
  },
  {
   "cell_type": "code",
   "execution_count": 19,
   "metadata": {},
   "outputs": [
    {
     "data": {
      "image/png": "[encoded data removed]",
      "text/plain": [
       "<Figure size 432x288 with 1 Axes>"
      ]
     },
     "metadata": {
      "needs_background": "light"
     },
     "output_type": "display_data"
    }
   ],
   "source": [
    "# Распределение длин слов без повторений\n",
    "plt.hist(list(map(len, set(all_words_list))), bins=50)\n",
    "plt.xlim(0, 35)\n",
    "plt.show()"
   ]
  },
  {
   "cell_type": "code",
   "execution_count": 20,
   "metadata": {},
   "outputs": [],
   "source": [
    "from collections import Counter\n",
    "cntr = Counter()\n",
    "\n",
    "cntr.update(all_words_list)"
   ]
  },
  {
   "cell_type": "markdown",
   "metadata": {},
   "source": [
    "3. Найдем самые популярные слова до применения стопслов"
   ]
  },
  {
   "cell_type": "code",
   "execution_count": 21,
   "metadata": {},
   "outputs": [
    {
     "data": {
      "text/plain": [
       "[('в', 265326),\n",
       " ('и', 211553),\n",
       " ('не', 170613),\n",
       " ('на', 140863),\n",
       " ('что', 127213),\n",
       " ('я', 114788),\n",
       " ('с', 92192),\n",
       " ('по', 74316),\n",
       " ('мне', 63556),\n",
       " ('банка', 55017)]"
      ]
     },
     "execution_count": 21,
     "metadata": {},
     "output_type": "execute_result"
    }
   ],
   "source": [
    "cntr.most_common(10)"
   ]
  },
  {
   "cell_type": "markdown",
   "metadata": {},
   "source": [
    "Исключим стоп-слова и снова посмотрим на топ."
   ]
  },
  {
   "cell_type": "code",
   "execution_count": 22,
   "metadata": {},
   "outputs": [
    {
     "data": {
      "application/vnd.jupyter.widget-view+json": {
       "model_id": "75c743976998412ab01c7b41998ea362",
       "version_major": 2,
       "version_minor": 0
      },
      "text/plain": [
       "HBox(children=(IntProgress(value=0, max=7050893), HTML(value='')))"
      ]
     },
     "metadata": {},
     "output_type": "display_data"
    },
    {
     "name": "stdout",
     "output_type": "stream",
     "text": [
      "\n"
     ]
    }
   ],
   "source": [
    "from nltk.corpus import stopwords\n",
    "\n",
    "# Добавим названия банков в список стоп-слов\n",
    "all_banks = df.bank_name.unique().tolist()\n",
    "mystopwords = set(stopwords.words('russian') + \\\n",
    "                  ['это', 'наш' , 'тыс', 'млн', 'млрд', 'также', 'г', 'т', 'д', 'банк', 'банку', 'банком', 'банка', 'банке'] + \\\n",
    "                  list(map(lambda x: x.lower(), all_banks)))\n",
    "\n",
    "all_words_wo_stopword_list = []\n",
    "\n",
    "for token in tqdm_notebook(all_words_list):\n",
    "    if token not in mystopwords:\n",
    "        all_words_wo_stopword_list.append(token)"
   ]
  },
  {
   "cell_type": "code",
   "execution_count": 23,
   "metadata": {},
   "outputs": [
    {
     "data": {
      "text/plain": [
       "[('деньги', 26211),\n",
       " ('карту', 20941),\n",
       " ('карты', 20015),\n",
       " ('кредит', 16089),\n",
       " ('день', 15390),\n",
       " ('заявление', 13977),\n",
       " ('очень', 13483),\n",
       " ('время', 13356),\n",
       " ('отделение', 13218),\n",
       " ('счет', 11400)]"
      ]
     },
     "execution_count": 23,
     "metadata": {},
     "output_type": "execute_result"
    }
   ],
   "source": [
    "cntr_stwrds = Counter()\n",
    "cntr_stwrds.update(all_words_wo_stopword_list)\n",
    "cntr_stwrds.most_common(10)"
   ]
  },
  {
   "cell_type": "markdown",
   "metadata": {},
   "source": [
    "Лемматизируем наш корупус и оценим топ лемм без стоп-слов и стоп-лемм"
   ]
  },
  {
   "cell_type": "code",
   "execution_count": 24,
   "metadata": {},
   "outputs": [],
   "source": [
    "from pymorphy2 import MorphAnalyzer\n",
    "\n",
    "pm2 = MorphAnalyzer()"
   ]
  },
  {
   "cell_type": "code",
   "execution_count": 25,
   "metadata": {},
   "outputs": [],
   "source": [
    "def text_beautifier(text, rule = '[А-Яа-яЁё]+'):\n",
    "    regex = re.compile(rule)\n",
    "    text = text.lower()\n",
    "    text = regex.findall(text)\n",
    "    text = ' '.join(text)\n",
    "    return text\n",
    "\n",
    "def remove_stopwords(text, mystopwords = mystopwords):\n",
    "    try:\n",
    "        return \" \".join([token for token in text.split() if not token in mystopwords])\n",
    "    except:\n",
    "        return \"\"\n",
    "\n",
    "def lemmatize(text, pm2=pm2):\n",
    "    try:\n",
    "        lemmas = [pm2.parse(word)[0].normal_form for word in text.split()]\n",
    "        return ' '.join(lemmas)\n",
    "    except:\n",
    "        return \" \"\n",
    "    \n",
    "mystoplemmas = ['который','прошлый','сей', 'свой', 'наш', 'мочь', 'банк', 'зао', 'ооо', 'оао', 'пао', 'рубль'] + list(map(lambda x: x.lower(), all_banks))\n",
    "def remove_stoplemmas(text, mystoplemmas = mystoplemmas):\n",
    "    try:\n",
    "        return \" \".join([token for token in text.split() if not token in mystoplemmas])\n",
    "    except:\n",
    "        return \"\""
   ]
  },
  {
   "cell_type": "code",
   "execution_count": 26,
   "metadata": {},
   "outputs": [],
   "source": [
    "df['lemma'] = df.apply(lambda x: text_beautifier(x.text, '[А-Яа-яЁё]+'), axis=1)\n",
    "df['lemma'] = df.apply(lambda x: remove_stopwords(x.lemma, mystopwords), axis=1)\n",
    "df['lemma'] = df['lemma'].apply(lemmatize)\n",
    "df['lemma'] = df['lemma'].apply(remove_stoplemmas)"
   ]
  },
  {
   "cell_type": "code",
   "execution_count": 27,
   "metadata": {},
   "outputs": [],
   "source": [
    "df_lemmas = df.lemma.tolist()"
   ]
  },
  {
   "cell_type": "code",
   "execution_count": 28,
   "metadata": {},
   "outputs": [],
   "source": [
    "all_lemmas_list = []\n",
    "for words in df_lemmas:\n",
    "    words = words.split(' ')\n",
    "    for word in words:\n",
    "        all_lemmas_list.append(word)"
   ]
  },
  {
   "cell_type": "code",
   "execution_count": 29,
   "metadata": {},
   "outputs": [
    {
     "data": {
      "text/plain": [
       "[('карта', 66369),\n",
       " ('деньга', 35853),\n",
       " ('день', 34048),\n",
       " ('мой', 31837),\n",
       " ('кредит', 31267),\n",
       " ('отделение', 28764),\n",
       " ('счёт', 28304),\n",
       " ('клиент', 27347),\n",
       " ('сотрудник', 26856),\n",
       " ('сказать', 23119)]"
      ]
     },
     "execution_count": 29,
     "metadata": {},
     "output_type": "execute_result"
    }
   ],
   "source": [
    "cntr_lemmas = Counter()\n",
    "cntr_lemmas.update(all_lemmas_list)\n",
    "cntr_lemmas.most_common(10)"
   ]
  },
  {
   "cell_type": "markdown",
   "metadata": {},
   "source": [
    "Найдем все существительные и построим топ"
   ]
  },
  {
   "cell_type": "code",
   "execution_count": 30,
   "metadata": {},
   "outputs": [
    {
     "data": {
      "application/vnd.jupyter.widget-view+json": {
       "model_id": "eeb3f95932d345f5a702b11f725f9542",
       "version_major": 2,
       "version_minor": 0
      },
      "text/plain": [
       "HBox(children=(IntProgress(value=0, max=4119117), HTML(value='')))"
      ]
     },
     "metadata": {},
     "output_type": "display_data"
    },
    {
     "name": "stdout",
     "output_type": "stream",
     "text": [
      "\n"
     ]
    }
   ],
   "source": [
    "all_nouns_list = []\n",
    "for lemma in tqdm_notebook(all_lemmas_list):\n",
    "    if 'NOUN' in pm2.parse(lemma)[0].tag:\n",
    "        all_nouns_list.append(lemma)"
   ]
  },
  {
   "cell_type": "code",
   "execution_count": 31,
   "metadata": {},
   "outputs": [
    {
     "data": {
      "text/plain": [
       "[('карта', 66369),\n",
       " ('деньга', 35853),\n",
       " ('день', 34048),\n",
       " ('кредит', 31267),\n",
       " ('отделение', 28764),\n",
       " ('счёт', 28304),\n",
       " ('клиент', 27347),\n",
       " ('сотрудник', 26856),\n",
       " ('сумма', 22565),\n",
       " ('год', 20811)]"
      ]
     },
     "execution_count": 31,
     "metadata": {},
     "output_type": "execute_result"
    }
   ],
   "source": [
    "cntr_nouns = Counter()\n",
    "cntr_nouns.update(all_nouns_list)\n",
    "cntr_nouns.most_common(10)"
   ]
  },
  {
   "cell_type": "markdown",
   "metadata": {},
   "source": [
    "4. Закон Ципфа"
   ]
  },
  {
   "cell_type": "code",
   "execution_count": 32,
   "metadata": {},
   "outputs": [
    {
     "data": {
      "image/png": "[encoded data removed]",
      "text/plain": [
       "<Figure size 432x288 with 1 Axes>"
      ]
     },
     "metadata": {
      "needs_background": "light"
     },
     "output_type": "display_data"
    }
   ],
   "source": [
    "freqs = list(cntr.values())\n",
    "freqs = sorted(freqs, reverse = True)\n",
    "\n",
    "fig, ax = plt.subplots()\n",
    "ax.plot(freqs[:300], range(300))\n",
    "plt.show()"
   ]
  },
  {
   "cell_type": "markdown",
   "metadata": {},
   "source": [
    "Закон Хипса"
   ]
  },
  {
   "cell_type": "code",
   "execution_count": 33,
   "metadata": {},
   "outputs": [],
   "source": [
    "n_tokens = []\n",
    "n_types = []\n",
    "types = set()\n",
    "\n",
    "for word, words in zip(all_words_list, range(len(all_words_list))):\n",
    "    n_tokens.append(words)\n",
    "    types.add(word)\n",
    "    n_types.append(len(types))    "
   ]
  },
  {
   "cell_type": "code",
   "execution_count": null,
   "metadata": {},
   "outputs": [],
   "source": []
  },
  {
   "cell_type": "code",
   "execution_count": 34,
   "metadata": {},
   "outputs": [
    {
     "data": {
      "image/png": "[encoded data removed]",
      "text/plain": [
       "<Figure size 432x288 with 1 Axes>"
      ]
     },
     "metadata": {
      "needs_background": "light"
     },
     "output_type": "display_data"
    }
   ],
   "source": [
    "fig, ax = plt.subplots()\n",
    "ax.plot(n_tokens, n_types)\n",
    "plt.show()"
   ]
  },
  {
   "cell_type": "markdown",
   "metadata": {},
   "source": [
    "5. Отвечаем на вопросы:\n",
    "    * какое слово встречается чаще, \"сотрудник\" или \"клиент\"?\n",
    "    * сколько раз встречается слова \"мошенничество\" и \"доверие\"?"
   ]
  },
  {
   "cell_type": "code",
   "execution_count": 35,
   "metadata": {},
   "outputs": [
    {
     "name": "stdout",
     "output_type": "stream",
     "text": [
      "Слово \"сотрудник\" встречается 26856, а слово \"клиент\" 27347. \n",
      "Выходит, \"клиент\" встречается чаще, если мы говорим о леммах слов.\n"
     ]
    }
   ],
   "source": [
    "print('Слово \"сотрудник\" встречается ' + str(cntr_lemmas['сотрудник']) + \\\n",
    "      ', а слово \"клиент\" ' + str(cntr_lemmas['клиент']) + '. \\nВыходит, \"клиент\" встречается чаще, если мы говорим о леммах слов.')"
   ]
  },
  {
   "cell_type": "code",
   "execution_count": 36,
   "metadata": {},
   "outputs": [
    {
     "name": "stdout",
     "output_type": "stream",
     "text": [
      "Слово \"мошенничество\" встречается 593, а слово \"доверие\" 433\n"
     ]
    }
   ],
   "source": [
    "print('Слово \"мошенничество\" встречается ' + str(cntr_lemmas['мошенничество']) + \\\n",
    "      ', а слово \"доверие\" ' + str(cntr_lemmas['доверие']))"
   ]
  },
  {
   "cell_type": "markdown",
   "metadata": {},
   "source": [
    "6. В поле \"rating_grade\" записана оценка отзыва по шкале от 1 до 5. Воспользуемся мерой $tf-idf$, для того, чтобы найти ключевые слова и биграмы для положительных отзывов (с оценкой 5) и отрицательных отзывов (с оценкой 1)"
   ]
  },
  {
   "cell_type": "code",
   "execution_count": 37,
   "metadata": {},
   "outputs": [],
   "source": [
    "from sklearn.feature_extraction.text import TfidfVectorizer\n",
    "vectorizer = TfidfVectorizer(ngram_range=(1,2))"
   ]
  },
  {
   "cell_type": "code",
   "execution_count": 38,
   "metadata": {},
   "outputs": [],
   "source": [
    "corpus_checked = df[~df['rating_not_checked']]\n",
    "corpus_lemmas = corpus_checked.lemma.tolist()\n",
    "positive_ids = corpus_checked[corpus_checked['rating_grade'] == 5].index.tolist()\n",
    "negative_ids = corpus_checked[corpus_checked['rating_grade'] == 1].index.tolist()"
   ]
  },
  {
   "cell_type": "code",
   "execution_count": 39,
   "metadata": {},
   "outputs": [],
   "source": [
    "tfidf_matrix = vectorizer.fit_transform(corpus_lemmas)"
   ]
  },
  {
   "cell_type": "code",
   "execution_count": 40,
   "metadata": {},
   "outputs": [],
   "source": [
    "features = vectorizer.get_feature_names()"
   ]
  },
  {
   "cell_type": "code",
   "execution_count": 41,
   "metadata": {},
   "outputs": [
    {
     "data": {
      "application/vnd.jupyter.widget-view+json": {
       "model_id": "7f02a57cd2844ec3b5dcc114a7d04d6d",
       "version_major": 2,
       "version_minor": 0
      },
      "text/plain": [
       "HBox(children=(IntProgress(value=0, max=30743), HTML(value='')))"
      ]
     },
     "metadata": {},
     "output_type": "display_data"
    },
    {
     "name": "stdout",
     "output_type": "stream",
     "text": [
      "\n"
     ]
    }
   ],
   "source": [
    "positive = []\n",
    "negative = []\n",
    "for row in tqdm_notebook(range(tfidf_matrix.shape[0])):\n",
    "    if row in positive_ids:\n",
    "        positive.append(tfidf_matrix[row])\n",
    "    if row in negative_ids:\n",
    "        negative.append(tfidf_matrix[row])"
   ]
  },
  {
   "cell_type": "code",
   "execution_count": 42,
   "metadata": {},
   "outputs": [
    {
     "data": {
      "application/vnd.jupyter.widget-view+json": {
       "model_id": "b6254b1323294ae7addaecdd600ea90f",
       "version_major": 2,
       "version_minor": 0
      },
      "text/plain": [
       "HBox(children=(IntProgress(value=0, max=2970), HTML(value='')))"
      ]
     },
     "metadata": {},
     "output_type": "display_data"
    },
    {
     "name": "stdout",
     "output_type": "stream",
     "text": [
      "\n"
     ]
    }
   ],
   "source": [
    "pos_keywrds = np.zeros_like(positive[0].toarray()[0])\n",
    "for each in tqdm_notebook(positive):\n",
    "    pos_keywrds += each.toarray()[0]"
   ]
  },
  {
   "cell_type": "code",
   "execution_count": 43,
   "metadata": {},
   "outputs": [
    {
     "data": {
      "application/vnd.jupyter.widget-view+json": {
       "model_id": "8c488753920a400cbf8c6bf20530c179",
       "version_major": 2,
       "version_minor": 0
      },
      "text/plain": [
       "HBox(children=(IntProgress(value=0, max=9405), HTML(value='')))"
      ]
     },
     "metadata": {},
     "output_type": "display_data"
    },
    {
     "name": "stdout",
     "output_type": "stream",
     "text": [
      "\n"
     ]
    }
   ],
   "source": [
    "neg_keywrds = np.zeros_like(negative[0].toarray()[0])\n",
    "for each in tqdm_notebook(negative):\n",
    "    neg_keywrds += each.toarray()[0]"
   ]
  },
  {
   "cell_type": "code",
   "execution_count": 44,
   "metadata": {},
   "outputs": [],
   "source": [
    "feedbacks = pd.DataFrame(np.array((np.array(features), pos_keywrds, neg_keywrds)).T, columns=['key_words', 'tfidf_positive', 'tfidf_negative'])"
   ]
  },
  {
   "cell_type": "code",
   "execution_count": 45,
   "metadata": {},
   "outputs": [],
   "source": [
    "feedbacks['n_gramm'] = feedbacks.apply(lambda x: len(x.key_words.split()), axis=1)"
   ]
  },
  {
   "cell_type": "code",
   "execution_count": 46,
   "metadata": {},
   "outputs": [
    {
     "name": "stdout",
     "output_type": "stream",
     "text": [
      "Ключевые слова для положительных отзывов:\n",
      "['место', 'сам', 'справка', 'звонить', 'отличный', 'это', 'оценка', 'анкета', 'бывать', 'подробно'] \n",
      "\n",
      "Биграмы для положительных отзывов:\n",
      "['следующий день', 'хотеть выразить', 'являться клиент', 'очень быстро', 'открыть вклад', 'огромный спасибо', 'выразить благодарность', 'большой спасибо', 'пользоваться услуга', 'очень вежливый'] \n",
      "\n",
      "Ключевые слова для отрицательных отзывов:\n",
      "['ответ', 'вклад', 'год', 'вопрос', 'дать', 'офис', 'получить', 'договор', 'время', 'номер'] \n",
      "\n",
      "Биграмы для отрицательных отзывов:\n",
      "['положить деньга', 'новый карта', 'просрочить задолженность', 'звонить горячий', 'процентный ставка', 'электронный почта', 'почему должный', 'ближний время', 'мой вопрос', 'какой отделение'] \n",
      "\n"
     ]
    }
   ],
   "source": [
    "print('Ключевые слова для положительных отзывов:')\n",
    "print(feedbacks.sort_values(by='tfidf_positive', ascending=False)[feedbacks['n_gramm'] == 1].key_words[:10].tolist(), '\\n')\n",
    "print('Биграмы для положительных отзывов:')\n",
    "print(feedbacks.sort_values(by='tfidf_positive', ascending=False)[feedbacks['n_gramm'] == 2].key_words[:10].tolist(), '\\n')\n",
    "print('Ключевые слова для отрицательных отзывов:')\n",
    "print(feedbacks.sort_values(by='tfidf_negative', ascending=False)[feedbacks['n_gramm'] == 1].key_words[:10].tolist(), '\\n')\n",
    "print('Биграмы для отрицательных отзывов:')\n",
    "print(feedbacks.sort_values(by='tfidf_negative', ascending=False)[feedbacks['n_gramm'] == 2].key_words[:10].tolist(), '\\n')"
   ]
  },
  {
   "cell_type": "markdown",
   "metadata": {},
   "source": [
    "Любопытно получилось. Полученные результаты полностью подтверждают мой прошлый опыт работы в банке: в основном жалуйстся те, кто забыл или невнимательно читал условия договоров или ушел в дефолт. Что еще интресно: негативные биграмы также встречаются в положительных отзывах, однако их tfidf скор в 10 раз меньше."
   ]
  },
  {
   "cell_type": "markdown",
   "metadata": {},
   "source": [
    "## Часть 2. Тематическое моделирование [20/100]\n",
    "\n",
    "1. Постройте несколько тематических моделей коллекции документов с разным числом тем. Приведите примеры понятных (интерпретируемых) тем.\n",
    "2. Найдите темы, в которых упомянуты конкретные банки (Сбербанк, ВТБ, другой банк). Можете ли вы их прокомментировать / объяснить?\n",
    "\n",
    "Эта часть задания может быть сделана с использованием gensim. "
   ]
  },
  {
   "cell_type": "code",
   "execution_count": 47,
   "metadata": {},
   "outputs": [],
   "source": [
    "from gensim.corpora import Dictionary\n",
    "from gensim.models import  *"
   ]
  },
  {
   "cell_type": "code",
   "execution_count": 48,
   "metadata": {},
   "outputs": [],
   "source": [
    "dataset = [corpus_lemmas[i].split() for i in range(len(corpus_lemmas))]\n",
    "dct = Dictionary(dataset)"
   ]
  },
  {
   "cell_type": "code",
   "execution_count": 49,
   "metadata": {},
   "outputs": [],
   "source": [
    "corpus = [dct.doc2bow(line) for line in dataset]\n",
    "model = TfidfModel(corpus)\n",
    "vector = model[corpus]"
   ]
  },
  {
   "cell_type": "code",
   "execution_count": 50,
   "metadata": {},
   "outputs": [
    {
     "data": {
      "text/plain": [
       "[(0,\n",
       "  '0.466*\"карта\" + 0.198*\"мой\" + 0.190*\"деньга\" + 0.185*\"день\" + 0.175*\"счёт\" + 0.164*\"отделение\" + 0.154*\"кредит\" + 0.153*\"клиент\" + 0.151*\"сотрудник\" + 0.133*\"сказать\"'),\n",
       " (1,\n",
       "  '-0.798*\"карта\" + 0.347*\"кредит\" + 0.137*\"сумма\" + 0.137*\"договор\" + 0.121*\"сотрудник\" + 0.115*\"платёж\" + 0.097*\"день\" + 0.089*\"клиент\" + 0.080*\"документ\" + 0.078*\"мой\"'),\n",
       " (2,\n",
       "  '-0.506*\"кредит\" + 0.468*\"деньга\" + 0.311*\"счёт\" + -0.238*\"карта\" + 0.236*\"вклад\" + -0.228*\"кредитный\" + 0.203*\"банкомат\" + 0.103*\"операция\" + 0.101*\"отделение\" + -0.101*\"договор\"'),\n",
       " (3,\n",
       "  '-0.412*\"счёт\" + -0.293*\"сумма\" + -0.249*\"деньга\" + 0.222*\"отделение\" + -0.210*\"кредит\" + 0.188*\"клиент\" + -0.181*\"средство\" + -0.176*\"платёж\" + 0.175*\"сотрудник\" + 0.175*\"вклад\"'),\n",
       " (4,\n",
       "  '0.348*\"мой\" + -0.301*\"кредит\" + 0.252*\"заявление\" + 0.247*\"номер\" + -0.243*\"вклад\" + -0.227*\"деньга\" + 0.189*\"дать\" + 0.185*\"средство\" + 0.169*\"сбербанк\" + 0.162*\"сотрудник\"')]"
      ]
     },
     "execution_count": 50,
     "metadata": {},
     "output_type": "execute_result"
    }
   ],
   "source": [
    "lsi = lsimodel.LsiModel(corpus=corpus, id2word=dct, num_topics=5)\n",
    "lsi.show_topics()"
   ]
  },
  {
   "cell_type": "markdown",
   "metadata": {},
   "source": [
    "Примечательно, что по коэффициентам при словах можно разделить темы на разные виды банковских операций. Например второй топик про проблемы с размещением денег на вкладе, а топик с номером 5(счет от 1), про получение кредита.\n",
    "\n",
    "Также удалось найти среди ключевых слов название банка (5 топик). Это странно, ведь я добавил названия банков в стоп слова, т.к. они не очень характеризуют эмоциональный окрас текста. Как мне кажется, лемматизатор воспринимает названия банков как имена собственные.\n",
    "\n",
    "Сейчас попробую извлечь темы только из негативных отзывов. Надеюсь получится разделить отзывы чуть точнее."
   ]
  },
  {
   "cell_type": "code",
   "execution_count": 51,
   "metadata": {},
   "outputs": [],
   "source": [
    "neg_lemmas = []\n",
    "for i  in range(len(corpus_lemmas)):\n",
    "    if i in negative_ids:\n",
    "        neg_lemmas.append(corpus_lemmas[i])"
   ]
  },
  {
   "cell_type": "code",
   "execution_count": 52,
   "metadata": {},
   "outputs": [],
   "source": [
    "dataset_neg = [neg_lemmas[i].split() for i in range(len(neg_lemmas))]\n",
    "dct_neg = Dictionary(dataset_neg)"
   ]
  },
  {
   "cell_type": "code",
   "execution_count": 53,
   "metadata": {},
   "outputs": [],
   "source": [
    "corpus_neg = [dct_neg.doc2bow(line) for line in dataset_neg]\n",
    "model_neg = TfidfModel(corpus_neg)\n",
    "vector_neg = model_neg[corpus_neg]"
   ]
  },
  {
   "cell_type": "code",
   "execution_count": 54,
   "metadata": {},
   "outputs": [
    {
     "data": {
      "text/plain": [
       "[(0,\n",
       "  '0.432*\"карта\" + 0.200*\"мой\" + 0.194*\"день\" + 0.191*\"деньга\" + 0.189*\"отделение\" + 0.175*\"счёт\" + 0.168*\"сотрудник\" + 0.153*\"кредит\" + 0.152*\"заявление\" + 0.150*\"клиент\"'),\n",
       " (1,\n",
       "  '-0.816*\"карта\" + 0.324*\"кредит\" + 0.163*\"сумма\" + 0.133*\"договор\" + 0.130*\"платёж\" + 0.096*\"сотрудник\" + 0.087*\"клиент\" + 0.084*\"день\" + 0.079*\"документ\" + 0.070*\"деньга\"'),\n",
       " (2,\n",
       "  '0.518*\"деньга\" + -0.478*\"кредит\" + 0.346*\"счёт\" + 0.211*\"банкомат\" + -0.207*\"карта\" + -0.194*\"кредитный\" + 0.145*\"вклад\" + 0.116*\"средство\" + 0.109*\"сбербанк\" + -0.105*\"договор\"'),\n",
       " (3,\n",
       "  '0.410*\"счёт\" + 0.289*\"сумма\" + -0.241*\"отделение\" + 0.235*\"кредит\" + -0.182*\"клиент\" + 0.170*\"платёж\" + 0.168*\"заявление\" + 0.148*\"деньга\" + 0.148*\"средство\" + 0.147*\"карта\"'),\n",
       " (4,\n",
       "  '-0.472*\"деньга\" + -0.318*\"кредит\" + 0.248*\"заявление\" + 0.232*\"мой\" + 0.229*\"сотрудник\" + 0.192*\"средство\" + -0.178*\"сказать\" + -0.159*\"банкомат\" + 0.148*\"сбербанк\" + 0.141*\"денежный\"')]"
      ]
     },
     "execution_count": 54,
     "metadata": {},
     "output_type": "execute_result"
    }
   ],
   "source": [
    "lsi_neg = lsimodel.LsiModel(corpus=corpus_neg, id2word=dct_neg, num_topics=5)\n",
    "lsi_neg.show_topics()"
   ]
  },
  {
   "cell_type": "markdown",
   "metadata": {},
   "source": [
    "Мало что поменялось. Попробуем с положительными отзывами."
   ]
  },
  {
   "cell_type": "code",
   "execution_count": 55,
   "metadata": {},
   "outputs": [],
   "source": [
    "pos_lemmas = []\n",
    "for i  in range(len(corpus_lemmas)):\n",
    "    if i in positive_ids:\n",
    "        pos_lemmas.append(corpus_lemmas[i])"
   ]
  },
  {
   "cell_type": "code",
   "execution_count": 56,
   "metadata": {},
   "outputs": [],
   "source": [
    "dataset_pos = [pos_lemmas[i].split() for i in range(len(pos_lemmas))]\n",
    "dct_pos = Dictionary(dataset_pos)"
   ]
  },
  {
   "cell_type": "code",
   "execution_count": 57,
   "metadata": {},
   "outputs": [],
   "source": [
    "corpus_pos = [dct_pos.doc2bow(line) for line in dataset_pos]\n",
    "model_pos = TfidfModel(corpus_pos)\n",
    "vector_pos = model_pos[corpus_pos]"
   ]
  },
  {
   "cell_type": "code",
   "execution_count": 58,
   "metadata": {},
   "outputs": [
    {
     "data": {
      "text/plain": [
       "[(0,\n",
       "  '0.422*\"карта\" + 0.195*\"очень\" + 0.176*\"день\" + 0.169*\"клиент\" + 0.165*\"деньга\" + 0.164*\"кредит\" + 0.161*\"мой\" + 0.158*\"отделение\" + 0.143*\"год\" + 0.139*\"сотрудник\"'),\n",
       " (1,\n",
       "  '0.760*\"карта\" + -0.347*\"кредит\" + -0.142*\"документ\" + -0.116*\"сотрудник\" + -0.116*\"вклад\" + -0.112*\"отделение\" + -0.109*\"очень\" + -0.096*\"день\" + 0.089*\"лимит\" + 0.088*\"интернет\"'),\n",
       " (2,\n",
       "  '-0.565*\"вклад\" + 0.559*\"кредит\" + 0.160*\"карта\" + 0.153*\"кредитный\" + -0.142*\"клиент\" + 0.139*\"документ\" + -0.129*\"счёт\" + -0.128*\"офис\" + 0.122*\"день\" + -0.114*\"отделение\"'),\n",
       " (3,\n",
       "  '-0.440*\"вклад\" + -0.351*\"деньга\" + 0.316*\"сотрудник\" + 0.302*\"отделение\" + 0.277*\"клиент\" + -0.223*\"кредит\" + -0.202*\"сумма\" + -0.162*\"процент\" + 0.147*\"работа\" + 0.127*\"вопрос\"'),\n",
       " (4,\n",
       "  '0.448*\"деньга\" + -0.405*\"вклад\" + 0.376*\"счёт\" + -0.228*\"карта\" + -0.215*\"очень\" + -0.211*\"кредит\" + 0.165*\"банкомат\" + 0.154*\"мой\" + 0.126*\"день\" + -0.115*\"кредитный\"')]"
      ]
     },
     "execution_count": 58,
     "metadata": {},
     "output_type": "execute_result"
    }
   ],
   "source": [
    "lsi_pos = lsimodel.LsiModel(corpus=corpus_pos, id2word=dct_pos, num_topics=5)\n",
    "lsi_pos.show_topics()"
   ]
  },
  {
   "cell_type": "markdown",
   "metadata": {},
   "source": [
    "Интересно. В 2х темах есть наречие очень. Клиент очень доволен, видимо. Также темы разделились по типам банковких операций на размещение вкладом и выдачу кредитов. Также в позитивных топиках отмечаются сотруденики и отделения банка."
   ]
  },
  {
   "cell_type": "markdown",
   "metadata": {},
   "source": [
    "## Часть 3. Классификация текстов [40/100]\n",
    "\n",
    "Сформулируем для простоты задачу бинарной классификации: будем классифицировать на два класса, то есть, различать резко отрицательные отзывы (с оценкой 1) и положительные отзывы (с оценкой 5). \n",
    "\n",
    "1.  Составьте обучающее и тестовое множество: выберите из всего набора данных N1 отзывов с оценкой 1 и N2 отзывов с оценкой 5 (значение N1 и N2 – на ваше усмотрение). Используйте ```sklearn.model_selection.train_test_split``` для разделения множества отобранных документов на обучающее и тестовое. \n",
    "2. Используйте любой известный вам алгоритм классификации текстов для решения задачи и получите baseline. Сравните разные варианты векторизации текста: использование только униграм, пар или троек слов или с использованием символьных $n$-грам. \n",
    "3. Сравните, как изменяется качество решения задачи при использовании скрытых тем в качестве признаков:\n",
    "    * 1-ый вариант: $tf-idf$ преобразование (```sklearn.feature_extraction.text.TfidfTransformer```) и сингулярное разложение (оно же – латентый семантический анализ) (```sklearn.decomposition.TruncatedSVD```), \n",
    "    * 2-ой вариант: тематические модели LDA (```sklearn.decomposition.LatentDirichletAllocation```). \n",
    "\n",
    "Используйте accuracy и F-measure для оценки качества классификации. \n",
    "\n",
    "Ниже написан примерный Pipeline для классификации текстов. \n",
    "\n",
    "Эта часть задания может быть сделана с использованием sklearn. "
   ]
  },
  {
   "cell_type": "code",
   "execution_count": 59,
   "metadata": {},
   "outputs": [],
   "source": [
    "from sklearn.model_selection import train_test_split\n",
    "from sklearn.pipeline import Pipeline\n",
    "from sklearn.ensemble import RandomForestClassifier\n",
    "from sklearn.feature_extraction.text import CountVectorizer, TfidfTransformer\n",
    "from sklearn.decomposition import TruncatedSVD, LatentDirichletAllocation\n",
    "from sklearn.metrics import accuracy_score, f1_score"
   ]
  },
  {
   "cell_type": "code",
   "execution_count": 60,
   "metadata": {},
   "outputs": [
    {
     "name": "stdout",
     "output_type": "stream",
     "text": [
      "negative:  2970 \n",
      "positive:  2970\n"
     ]
    }
   ],
   "source": [
    "neg_samples = negative_ids[:len(positive_ids)]\n",
    "pos_sapmles = positive_ids\n",
    "print('negative: ', len(neg_samples), '\\npositive: ', len(pos_sapmles))"
   ]
  },
  {
   "cell_type": "code",
   "execution_count": 61,
   "metadata": {},
   "outputs": [],
   "source": [
    "neg_corpus = []\n",
    "pos_corpus = []\n",
    "\n",
    "for i in range(len(corpus_lemmas)):\n",
    "    if i in neg_samples:\n",
    "        neg_corpus.append([corpus_lemmas[i], 0])\n",
    "    if i in pos_sapmles:\n",
    "        pos_corpus.append([corpus_lemmas[i], 1])"
   ]
  },
  {
   "cell_type": "code",
   "execution_count": 62,
   "metadata": {},
   "outputs": [],
   "source": [
    "data = np.array(neg_corpus + pos_corpus).T"
   ]
  },
  {
   "cell_type": "code",
   "execution_count": 63,
   "metadata": {},
   "outputs": [],
   "source": [
    "X_train, X_test, y_train, y_test = train_test_split(data[0], data[1], test_size=0.30, random_state=42)"
   ]
  },
  {
   "cell_type": "code",
   "execution_count": 64,
   "metadata": {},
   "outputs": [],
   "source": [
    "clf = Pipeline([ \n",
    "    ('vect', CountVectorizer()), \n",
    "    ('tfidf', TfidfTransformer()), \n",
    "    ('tm', TruncatedSVD(n_components=30, random_state=42)), \n",
    "    ('clf', RandomForestClassifier(random_state=42))\n",
    "])"
   ]
  },
  {
   "cell_type": "markdown",
   "metadata": {},
   "source": [
    "1. Baseline(униграмы)"
   ]
  },
  {
   "cell_type": "code",
   "execution_count": 65,
   "metadata": {},
   "outputs": [
    {
     "data": {
      "text/plain": [
       "Pipeline(memory=None,\n",
       "         steps=[('vect',\n",
       "                 CountVectorizer(analyzer='word', binary=False,\n",
       "                                 decode_error='strict',\n",
       "                                 dtype=<class 'numpy.int64'>, encoding='utf-8',\n",
       "                                 input='content', lowercase=True, max_df=1.0,\n",
       "                                 max_features=None, min_df=1,\n",
       "                                 ngram_range=(1, 1), preprocessor=None,\n",
       "                                 stop_words=None, strip_accents=None,\n",
       "                                 token_pattern='(?u)\\\\b\\\\w\\\\w+\\\\b',\n",
       "                                 tokenizer=None, vocabulary=Non...\n",
       "                 RandomForestClassifier(bootstrap=True, class_weight=None,\n",
       "                                        criterion='gini', max_depth=None,\n",
       "                                        max_features='auto',\n",
       "                                        max_leaf_nodes=None,\n",
       "                                        min_impurity_decrease=0.0,\n",
       "                                        min_impurity_split=None,\n",
       "                                        min_samples_leaf=1, min_samples_split=2,\n",
       "                                        min_weight_fraction_leaf=0.0,\n",
       "                                        n_estimators=10, n_jobs=None,\n",
       "                                        oob_score=False, random_state=42,\n",
       "                                        verbose=0, warm_start=False))],\n",
       "         verbose=False)"
      ]
     },
     "execution_count": 65,
     "metadata": {},
     "output_type": "execute_result"
    }
   ],
   "source": [
    "clf.fit(X_train, y_train)"
   ]
  },
  {
   "cell_type": "code",
   "execution_count": 66,
   "metadata": {},
   "outputs": [
    {
     "name": "stdout",
     "output_type": "stream",
     "text": [
      "Test score\n",
      "\tacc:\t 0.855 \n",
      "\tf1:\t 0.843\n"
     ]
    }
   ],
   "source": [
    "print('Test score\\n\\tacc:\\t', round(accuracy_score(y_test, clf.predict(X_test)), 3), \\\n",
    "      '\\n\\tf1:\\t', round(f1_score(y_test, clf.predict(X_test), pos_label='1'), 3))"
   ]
  },
  {
   "cell_type": "markdown",
   "metadata": {},
   "source": [
    "2. Биграмы"
   ]
  },
  {
   "cell_type": "code",
   "execution_count": 67,
   "metadata": {},
   "outputs": [],
   "source": [
    "clf_bi = Pipeline([ \n",
    "    ('vect', CountVectorizer(ngram_range=(2,2))), \n",
    "    ('tfidf', TfidfTransformer()), \n",
    "    ('tm', TruncatedSVD(n_components=30, random_state=42)), \n",
    "    ('clf', RandomForestClassifier(random_state=42))\n",
    "])"
   ]
  },
  {
   "cell_type": "code",
   "execution_count": 68,
   "metadata": {},
   "outputs": [
    {
     "data": {
      "text/plain": [
       "Pipeline(memory=None,\n",
       "         steps=[('vect',\n",
       "                 CountVectorizer(analyzer='word', binary=False,\n",
       "                                 decode_error='strict',\n",
       "                                 dtype=<class 'numpy.int64'>, encoding='utf-8',\n",
       "                                 input='content', lowercase=True, max_df=1.0,\n",
       "                                 max_features=None, min_df=1,\n",
       "                                 ngram_range=(2, 2), preprocessor=None,\n",
       "                                 stop_words=None, strip_accents=None,\n",
       "                                 token_pattern='(?u)\\\\b\\\\w\\\\w+\\\\b',\n",
       "                                 tokenizer=None, vocabulary=Non...\n",
       "                 RandomForestClassifier(bootstrap=True, class_weight=None,\n",
       "                                        criterion='gini', max_depth=None,\n",
       "                                        max_features='auto',\n",
       "                                        max_leaf_nodes=None,\n",
       "                                        min_impurity_decrease=0.0,\n",
       "                                        min_impurity_split=None,\n",
       "                                        min_samples_leaf=1, min_samples_split=2,\n",
       "                                        min_weight_fraction_leaf=0.0,\n",
       "                                        n_estimators=10, n_jobs=None,\n",
       "                                        oob_score=False, random_state=42,\n",
       "                                        verbose=0, warm_start=False))],\n",
       "         verbose=False)"
      ]
     },
     "execution_count": 68,
     "metadata": {},
     "output_type": "execute_result"
    }
   ],
   "source": [
    "clf_bi.fit(X_train, y_train)"
   ]
  },
  {
   "cell_type": "code",
   "execution_count": 69,
   "metadata": {},
   "outputs": [
    {
     "name": "stdout",
     "output_type": "stream",
     "text": [
      "Test score\n",
      "\tacc:\t 0.845 \n",
      "\tf1:\t 0.835\n"
     ]
    }
   ],
   "source": [
    "print('Test score\\n\\tacc:\\t', round(accuracy_score(y_test, clf_bi.predict(X_test)), 3), \\\n",
    "      '\\n\\tf1:\\t', round(f1_score(y_test, clf_bi.predict(X_test), pos_label='1'), 3))"
   ]
  },
  {
   "cell_type": "markdown",
   "metadata": {},
   "source": [
    "3. Триграмы"
   ]
  },
  {
   "cell_type": "code",
   "execution_count": 70,
   "metadata": {},
   "outputs": [],
   "source": [
    "clf_tri = Pipeline([ \n",
    "    ('vect', CountVectorizer(ngram_range=(3,3))), \n",
    "    ('tfidf', TfidfTransformer()), \n",
    "    ('tm', TruncatedSVD(n_components=30, random_state=42)), \n",
    "    ('clf', RandomForestClassifier(random_state=42))\n",
    "])"
   ]
  },
  {
   "cell_type": "code",
   "execution_count": 71,
   "metadata": {},
   "outputs": [
    {
     "data": {
      "text/plain": [
       "Pipeline(memory=None,\n",
       "         steps=[('vect',\n",
       "                 CountVectorizer(analyzer='word', binary=False,\n",
       "                                 decode_error='strict',\n",
       "                                 dtype=<class 'numpy.int64'>, encoding='utf-8',\n",
       "                                 input='content', lowercase=True, max_df=1.0,\n",
       "                                 max_features=None, min_df=1,\n",
       "                                 ngram_range=(3, 3), preprocessor=None,\n",
       "                                 stop_words=None, strip_accents=None,\n",
       "                                 token_pattern='(?u)\\\\b\\\\w\\\\w+\\\\b',\n",
       "                                 tokenizer=None, vocabulary=Non...\n",
       "                 RandomForestClassifier(bootstrap=True, class_weight=None,\n",
       "                                        criterion='gini', max_depth=None,\n",
       "                                        max_features='auto',\n",
       "                                        max_leaf_nodes=None,\n",
       "                                        min_impurity_decrease=0.0,\n",
       "                                        min_impurity_split=None,\n",
       "                                        min_samples_leaf=1, min_samples_split=2,\n",
       "                                        min_weight_fraction_leaf=0.0,\n",
       "                                        n_estimators=10, n_jobs=None,\n",
       "                                        oob_score=False, random_state=42,\n",
       "                                        verbose=0, warm_start=False))],\n",
       "         verbose=False)"
      ]
     },
     "execution_count": 71,
     "metadata": {},
     "output_type": "execute_result"
    }
   ],
   "source": [
    "clf_tri.fit(X_train, y_train)"
   ]
  },
  {
   "cell_type": "code",
   "execution_count": 72,
   "metadata": {},
   "outputs": [
    {
     "name": "stdout",
     "output_type": "stream",
     "text": [
      "Test score\n",
      "\tacc:\t 0.55 \n",
      "\tf1:\t 0.613\n"
     ]
    }
   ],
   "source": [
    "print('Test score\\n\\tacc:\\t', round(accuracy_score(y_test, clf_tri.predict(X_test)), 3), \\\n",
    "      '\\n\\tf1:\\t', round(f1_score(y_test, clf_tri.predict(X_test), pos_label='1'), 3))"
   ]
  },
  {
   "cell_type": "markdown",
   "metadata": {},
   "source": [
    "4. Символьные n-грамы"
   ]
  },
  {
   "cell_type": "code",
   "execution_count": 73,
   "metadata": {},
   "outputs": [],
   "source": [
    "clf_n = Pipeline([ \n",
    "    ('vect', CountVectorizer(analyzer='char', ngram_range=(2,10))), \n",
    "    ('tfidf', TfidfTransformer()), \n",
    "    ('tm', TruncatedSVD(n_components=30, random_state=42)), \n",
    "    ('clf', RandomForestClassifier(random_state=42))\n",
    "])"
   ]
  },
  {
   "cell_type": "code",
   "execution_count": 74,
   "metadata": {},
   "outputs": [
    {
     "data": {
      "text/plain": [
       "Pipeline(memory=None,\n",
       "         steps=[('vect',\n",
       "                 CountVectorizer(analyzer='char', binary=False,\n",
       "                                 decode_error='strict',\n",
       "                                 dtype=<class 'numpy.int64'>, encoding='utf-8',\n",
       "                                 input='content', lowercase=True, max_df=1.0,\n",
       "                                 max_features=None, min_df=1,\n",
       "                                 ngram_range=(2, 10), preprocessor=None,\n",
       "                                 stop_words=None, strip_accents=None,\n",
       "                                 token_pattern='(?u)\\\\b\\\\w\\\\w+\\\\b',\n",
       "                                 tokenizer=None, vocabulary=No...\n",
       "                 RandomForestClassifier(bootstrap=True, class_weight=None,\n",
       "                                        criterion='gini', max_depth=None,\n",
       "                                        max_features='auto',\n",
       "                                        max_leaf_nodes=None,\n",
       "                                        min_impurity_decrease=0.0,\n",
       "                                        min_impurity_split=None,\n",
       "                                        min_samples_leaf=1, min_samples_split=2,\n",
       "                                        min_weight_fraction_leaf=0.0,\n",
       "                                        n_estimators=10, n_jobs=None,\n",
       "                                        oob_score=False, random_state=42,\n",
       "                                        verbose=0, warm_start=False))],\n",
       "         verbose=False)"
      ]
     },
     "execution_count": 74,
     "metadata": {},
     "output_type": "execute_result"
    }
   ],
   "source": [
    "clf_n.fit(X_train, y_train)"
   ]
  },
  {
   "cell_type": "code",
   "execution_count": 75,
   "metadata": {},
   "outputs": [
    {
     "name": "stdout",
     "output_type": "stream",
     "text": [
      "Test score\n",
      "\tacc:\t 0.861 \n",
      "\tf1:\t 0.852\n"
     ]
    }
   ],
   "source": [
    "print('Test score\\n\\tacc:\\t', round(accuracy_score(y_test, clf_n.predict(X_test)), 3), \\\n",
    "      '\\n\\tf1:\\t', round(f1_score(y_test, clf_n.predict(X_test), pos_label='1'), 3))"
   ]
  },
  {
   "cell_type": "markdown",
   "metadata": {},
   "source": [
    "Похоже, что использование символьных n-грамов дает лучший результат. Также пришлось подкрутьтить количество скрытых представлений при снижении размерности. Выбрал 30 - интуитивно."
   ]
  },
  {
   "cell_type": "code",
   "execution_count": 87,
   "metadata": {},
   "outputs": [],
   "source": [
    "clf_n_LDA = Pipeline([ \n",
    "    ('vect', CountVectorizer()), \n",
    "    ('tfidf', TfidfTransformer()), \n",
    "    ('lda', LatentDirichletAllocation(random_state=42)), \n",
    "    ('clf', RandomForestClassifier(random_state=42))\n",
    "])"
   ]
  },
  {
   "cell_type": "code",
   "execution_count": 88,
   "metadata": {},
   "outputs": [
    {
     "data": {
      "text/plain": [
       "Pipeline(memory=None,\n",
       "         steps=[('vect',\n",
       "                 CountVectorizer(analyzer='word', binary=False,\n",
       "                                 decode_error='strict',\n",
       "                                 dtype=<class 'numpy.int64'>, encoding='utf-8',\n",
       "                                 input='content', lowercase=True, max_df=1.0,\n",
       "                                 max_features=None, min_df=1,\n",
       "                                 ngram_range=(1, 1), preprocessor=None,\n",
       "                                 stop_words=None, strip_accents=None,\n",
       "                                 token_pattern='(?u)\\\\b\\\\w\\\\w+\\\\b',\n",
       "                                 tokenizer=None, vocabulary=Non...\n",
       "                 RandomForestClassifier(bootstrap=True, class_weight=None,\n",
       "                                        criterion='gini', max_depth=None,\n",
       "                                        max_features='auto',\n",
       "                                        max_leaf_nodes=None,\n",
       "                                        min_impurity_decrease=0.0,\n",
       "                                        min_impurity_split=None,\n",
       "                                        min_samples_leaf=1, min_samples_split=2,\n",
       "                                        min_weight_fraction_leaf=0.0,\n",
       "                                        n_estimators=10, n_jobs=None,\n",
       "                                        oob_score=False, random_state=42,\n",
       "                                        verbose=0, warm_start=False))],\n",
       "         verbose=False)"
      ]
     },
     "execution_count": 88,
     "metadata": {},
     "output_type": "execute_result"
    }
   ],
   "source": [
    "clf_n_LDA.fit(X_train, y_train)"
   ]
  },
  {
   "cell_type": "code",
   "execution_count": 89,
   "metadata": {},
   "outputs": [
    {
     "name": "stdout",
     "output_type": "stream",
     "text": [
      "Test score\n",
      "\tacc:\t 0.584 \n",
      "\tf1:\t 0.556\n"
     ]
    }
   ],
   "source": [
    "print('Test score\\n\\tacc:\\t', round(accuracy_score(y_test, clf_n_LDA.predict(X_test)), 3), \\\n",
    "      '\\n\\tf1:\\t', round(f1_score(y_test, clf_n_LDA.predict(X_test), pos_label='1'), 3))"
   ]
  },
  {
   "cell_type": "markdown",
   "metadata": {},
   "source": [
    "Да, LDA работает крайне плохо, какие параметры я бы ни подбирал."
   ]
  }
 ],
 "metadata": {
  "kernelspec": {
   "display_name": "Python 3",
   "language": "python",
   "name": "python3"
  },
  "language_info": {
   "codemirror_mode": {
    "name": "ipython",
    "version": 3
   },
   "file_extension": ".py",
   "mimetype": "text/x-python",
   "name": "python",
   "nbconvert_exporter": "python",
   "pygments_lexer": "ipython3",
   "version": "3.7.3"
  }
 },
 "nbformat": 4,
 "nbformat_minor": 2
}
