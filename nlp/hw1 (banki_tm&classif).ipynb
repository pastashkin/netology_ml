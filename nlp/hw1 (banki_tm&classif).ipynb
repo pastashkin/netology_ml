{
 "cells": [
  {
   "cell_type": "code",
   "execution_count": 3,
   "metadata": {},
   "outputs": [],
   "source": [
    "import json\n",
    "\n",
    "import bz2\n",
    "import regex\n",
    "from tqdm import tqdm\n",
    "from scipy import sparse"
   ]
  },
  {
   "cell_type": "code",
   "execution_count": 4,
   "metadata": {},
   "outputs": [
    {
     "name": "stdout",
     "output_type": "stream",
     "text": [
      "Populating the interactive namespace from numpy and matplotlib\n"
     ]
    }
   ],
   "source": [
    "import pandas as pd\n",
    "import numpy as np\n",
    "import nltk\n",
    "import matplotlib.pyplot as plt\n",
    "import seaborn as sns\n",
    "%matplotlib inline\n",
    "%pylab inline"
   ]
  },
  {
   "cell_type": "code",
   "execution_count": 6,
   "metadata": {
    "scrolled": true
   },
   "outputs": [
    {
     "name": "stderr",
     "output_type": "stream",
     "text": [
      "201030it [02:16, 1471.24it/s]\n"
     ]
    }
   ],
   "source": [
    "responses = []\n",
    "with bz2.BZ2File('./data/banki_responses.json.bz2', 'r') as thefile:\n",
    "    for row in tqdm(thefile):\n",
    "        resp = json.loads(row)\n",
    "        if not resp['rating_not_checked'] and (len(resp['text'].split()) > 0):\n",
    "            responses.append(resp)"
   ]
  },
  {
   "cell_type": "markdown",
   "metadata": {},
   "source": [
    "#  Домашнее задание по NLP # 1 [100 баллов]\n",
    "## Классификация по тональности \n",
    "\n",
    "В этом домашнем задании вам предстоит классифицировать по тональности отзывы на банки с сайта banki.ru.\n",
    "\n",
    "Данные содержат непосредственно тексты отзывов, некоторую дополнительную информацию, а также оценку по шкале от 1 до 5. \n",
    "\n",
    "Тексты хранятся в json-ах в массиве responses.\n",
    "\n",
    "Посмотрим на пример отзыва:"
   ]
  },
  {
   "cell_type": "code",
   "execution_count": 7,
   "metadata": {},
   "outputs": [
    {
     "data": {
      "text/plain": [
       "{'city': 'г. Саратов',\n",
       " 'rating_not_checked': False,\n",
       " 'title': 'Карта ко вкладу',\n",
       " 'num_comments': 0,\n",
       " 'bank_license': 'лицензия № 880',\n",
       " 'author': 'ronnichka',\n",
       " 'bank_name': 'Югра',\n",
       " 'datetime': '2015-06-03 20:56:57',\n",
       " 'text': 'Здравствуйте! Хотела написать, что мне месяц не выдают карту ко вкладу, ссылаясь на \"нам же их из Самары везут\" (на секундочку 5 часов езды от нашего города). Но! Прочитала, что людям 3,5 месяцев не выдают карту, и поняла, что у меня все хорошо, пока что. И подарок мне дали, и кулер в отделении есть. Так что я, конечно, готова ждать. Правда хотелось бы не очень долго.',\n",
       " 'rating_grade': 3}"
      ]
     },
     "execution_count": 7,
     "metadata": {},
     "output_type": "execute_result"
    }
   ],
   "source": [
    "responses[99]"
   ]
  },
  {
   "cell_type": "markdown",
   "metadata": {},
   "source": [
    "## Часть 1. Анализ текстов [40/100]\n",
    "\n",
    "1. Посчитайте количество отзывов в разных городах и на разные банки\n",
    "2. Постройте гистограмы длин слов в символах и в словах\n",
    "3. Найдите 10 самых частых:\n",
    "    * слов\n",
    "    * слов без стоп-слов\n",
    "    * лемм \n",
    "* существительных\n",
    "4. Постройте кривые Ципфа и Хипса\n",
    "5. Ответьте на следующие вопросы:\n",
    "    * какое слово встречается чаще, \"сотрудник\" или \"клиент\"?\n",
    "    * сколько раз встречается слова \"мошенничество\" и \"доверие\"?\n",
    "6. В поле \"rating_grade\" записана оценка отзыва по шкале от 1 до 5. Используйте меру $tf-idf$, для того, чтобы найти ключевые слова и биграмы для положительных отзывов (с оценкой 5) и отрицательных отзывов (с оценкой 1)"
   ]
  },
  {
   "cell_type": "markdown",
   "metadata": {},
   "source": [
    "Смотрим распределение отзывов по городам и банкакм. Посмотрим на гистограммы рейтингов и их распределения по городам и банкам. Но сперва собирем датасет."
   ]
  },
  {
   "cell_type": "code",
   "execution_count": 24,
   "metadata": {},
   "outputs": [],
   "source": [
    "df = pd.DataFrame(responses)"
   ]
  },
  {
   "cell_type": "code",
   "execution_count": 25,
   "metadata": {},
   "outputs": [
    {
     "data": {
      "text/html": [
       "<div>\n",
       "<style scoped>\n",
       "    .dataframe tbody tr th:only-of-type {\n",
       "        vertical-align: middle;\n",
       "    }\n",
       "\n",
       "    .dataframe tbody tr th {\n",
       "        vertical-align: top;\n",
       "    }\n",
       "\n",
       "    .dataframe thead th {\n",
       "        text-align: right;\n",
       "    }\n",
       "</style>\n",
       "<table border=\"1\" class=\"dataframe\">\n",
       "  <thead>\n",
       "    <tr style=\"text-align: right;\">\n",
       "      <th></th>\n",
       "      <th>author</th>\n",
       "      <th>bank_license</th>\n",
       "      <th>bank_name</th>\n",
       "      <th>city</th>\n",
       "      <th>datetime</th>\n",
       "      <th>num_comments</th>\n",
       "      <th>rating_grade</th>\n",
       "      <th>rating_not_checked</th>\n",
       "      <th>text</th>\n",
       "      <th>title</th>\n",
       "    </tr>\n",
       "  </thead>\n",
       "  <tbody>\n",
       "    <tr>\n",
       "      <th>0</th>\n",
       "      <td>uhnov1</td>\n",
       "      <td>лицензия № 2562</td>\n",
       "      <td>Бинбанк</td>\n",
       "      <td>г. Москва</td>\n",
       "      <td>2015-06-08 12:50:54</td>\n",
       "      <td>0</td>\n",
       "      <td>NaN</td>\n",
       "      <td>False</td>\n",
       "      <td>Добрый день! Я не являюсь клиентом банка и пор...</td>\n",
       "      <td>Жалоба</td>\n",
       "    </tr>\n",
       "    <tr>\n",
       "      <th>1</th>\n",
       "      <td>Foryou</td>\n",
       "      <td>лицензия № 1481</td>\n",
       "      <td>Сбербанк России</td>\n",
       "      <td>г. Новосибирск</td>\n",
       "      <td>2015-06-08 11:09:57</td>\n",
       "      <td>0</td>\n",
       "      <td>NaN</td>\n",
       "      <td>False</td>\n",
       "      <td>Доброго дня! Являюсь держателем зарплатной кар...</td>\n",
       "      <td>Не могу пользоваться услугой Сбербанк он-лайн</td>\n",
       "    </tr>\n",
       "    <tr>\n",
       "      <th>2</th>\n",
       "      <td>Vladimir84</td>\n",
       "      <td>лицензия № 2562</td>\n",
       "      <td>Бинбанк</td>\n",
       "      <td>г. Москва</td>\n",
       "      <td>2015-06-05 20:14:28</td>\n",
       "      <td>1</td>\n",
       "      <td>NaN</td>\n",
       "      <td>False</td>\n",
       "      <td>Здравствуйте!  Дублирую свое заявление от 03.0...</td>\n",
       "      <td>Двойное списание за один товар.</td>\n",
       "    </tr>\n",
       "    <tr>\n",
       "      <th>3</th>\n",
       "      <td>643609</td>\n",
       "      <td>лицензия № 1481</td>\n",
       "      <td>Сбербанк России</td>\n",
       "      <td>г. Ставрополь</td>\n",
       "      <td>2015-06-05 13:51:01</td>\n",
       "      <td>2</td>\n",
       "      <td>NaN</td>\n",
       "      <td>False</td>\n",
       "      <td>Добрый день!! Я открыл расчетный счет в СберБа...</td>\n",
       "      <td>Меняют проценты комиссии  не предупредив и не ...</td>\n",
       "    </tr>\n",
       "    <tr>\n",
       "      <th>4</th>\n",
       "      <td>anfisa-2003</td>\n",
       "      <td>лицензия № 2766</td>\n",
       "      <td>ОТП Банк</td>\n",
       "      <td>г. Челябинск</td>\n",
       "      <td>2015-06-05 10:58:12</td>\n",
       "      <td>1</td>\n",
       "      <td>NaN</td>\n",
       "      <td>False</td>\n",
       "      <td>04.03.2015 г. взяла кредит в вашем банке, заяв...</td>\n",
       "      <td>Верните денежные средства за страховку</td>\n",
       "    </tr>\n",
       "  </tbody>\n",
       "</table>\n",
       "</div>"
      ],
      "text/plain": [
       "        author     bank_license        bank_name            city  \\\n",
       "0       uhnov1  лицензия № 2562          Бинбанк       г. Москва   \n",
       "1       Foryou  лицензия № 1481  Сбербанк России  г. Новосибирск   \n",
       "2   Vladimir84  лицензия № 2562          Бинбанк       г. Москва   \n",
       "3       643609  лицензия № 1481  Сбербанк России   г. Ставрополь   \n",
       "4  anfisa-2003  лицензия № 2766         ОТП Банк    г. Челябинск   \n",
       "\n",
       "              datetime  num_comments  rating_grade  rating_not_checked  \\\n",
       "0  2015-06-08 12:50:54             0           NaN               False   \n",
       "1  2015-06-08 11:09:57             0           NaN               False   \n",
       "2  2015-06-05 20:14:28             1           NaN               False   \n",
       "3  2015-06-05 13:51:01             2           NaN               False   \n",
       "4  2015-06-05 10:58:12             1           NaN               False   \n",
       "\n",
       "                                                text  \\\n",
       "0  Добрый день! Я не являюсь клиентом банка и пор...   \n",
       "1  Доброго дня! Являюсь держателем зарплатной кар...   \n",
       "2  Здравствуйте!  Дублирую свое заявление от 03.0...   \n",
       "3  Добрый день!! Я открыл расчетный счет в СберБа...   \n",
       "4  04.03.2015 г. взяла кредит в вашем банке, заяв...   \n",
       "\n",
       "                                               title  \n",
       "0                                             Жалоба  \n",
       "1      Не могу пользоваться услугой Сбербанк он-лайн  \n",
       "2                    Двойное списание за один товар.  \n",
       "3  Меняют проценты комиссии  не предупредив и не ...  \n",
       "4             Верните денежные средства за страховку  "
      ]
     },
     "execution_count": 25,
     "metadata": {},
     "output_type": "execute_result"
    }
   ],
   "source": [
    "df.head()"
   ]
  },
  {
   "cell_type": "code",
   "execution_count": 52,
   "metadata": {},
   "outputs": [
    {
     "data": {
      "text/plain": [
       "<matplotlib.axes._subplots.AxesSubplot at 0x7f766e381da0>"
      ]
     },
     "execution_count": 52,
     "metadata": {},
     "output_type": "execute_result"
    },
    {
     "data": {
      "image/png": "[encoded data removed]",
      "text/plain": [
       "<Figure size 432x288 with 1 Axes>"
      ]
     },
     "metadata": {
      "needs_background": "light"
     },
     "output_type": "display_data"
    }
   ],
   "source": [
    "#Распределение рейтингов по отзывам. Без рейтинга исключены.\n",
    "sns.distplot(df.rating_grade.dropna(), bins=5)"
   ]
  },
  {
   "cell_type": "markdown",
   "metadata": {},
   "source": [
    "Ожидаемо много негатива. Стоит задуматься о балансировке классов. Посмотрим на данные по городам и банкам"
   ]
  },
  {
   "cell_type": "code",
   "execution_count": 60,
   "metadata": {},
   "outputs": [
    {
     "data": {
      "text/plain": [
       "array(['Бинбанк', 'Сбербанк России', 'ОТП Банк', 'Гагаринский',\n",
       "       'Тинькофф Банк', 'Восточный Экспресс Банк', 'ВТБ 24', 'Альфа-Банк',\n",
       "       'БИНБАНК кредитные карты', 'МТС Банк', 'Совкомбанк',\n",
       "       'Россельхозбанк', 'Московский Кредитный Банк', 'МДМ Банк',\n",
       "       'Хоум Кредит Банк', 'Бенифит-Банк',\n",
       "       'Уральский Банк Реконструкции и Развития', 'Русский Стандарт',\n",
       "       'Лето Банк', 'Петрокоммерц'], dtype=object)"
      ]
     },
     "execution_count": 60,
     "metadata": {},
     "output_type": "execute_result"
    }
   ],
   "source": [
    "df.bank_name.unique()[:20]"
   ]
  },
  {
   "cell_type": "code",
   "execution_count": 64,
   "metadata": {},
   "outputs": [
    {
     "data": {
      "text/plain": [
       "array(['г.  (Красногорск)', 'г.  (Москва)', 'г.  (Россия)',\n",
       "       'г.  (Ханты-Мансийский автономный округ)', 'г. -', 'г. ...',\n",
       "       'г. ....', 'г. .......', 'г. ........', 'г. 047169000 или 5939',\n",
       "       'г. 1-е Новоспасское', 'г. 111', 'г. 1111', 'г. 112', 'г. 112422',\n",
       "       'г. 140051, МО, Люберецкий район, Красково',\n",
       "       'г. 140205,Pobeda street,16,39,city of Voscresensk,Moscow region',\n",
       "       'г. 143420 Московская область, Красногорский район, посёлок дачного хозяйства Архангельское, д.4,кв.2',\n",
       "       'г. 1Ёсаратов', 'г. 2-я Гавриловка'], dtype=object)"
      ]
     },
     "execution_count": 64,
     "metadata": {},
     "output_type": "execute_result"
    }
   ],
   "source": [
    "df.city.sort_values().unique()[:20]"
   ]
  },
  {
   "cell_type": "markdown",
   "metadata": {},
   "source": [
    "Как видим, наименования банков выбирались из списков, а город указывался пользователем. Визулизируем распределение отзывов по банкам."
   ]
  },
  {
   "cell_type": "code",
   "execution_count": 73,
   "metadata": {},
   "outputs": [
    {
     "data": {
      "text/plain": [
       "bank_name\n",
       "Сбербанк России              26327\n",
       "Альфа-Банк                   10224\n",
       "ВТБ 24                        8185\n",
       "Русский Стандарт              7943\n",
       "Хоум Кредит Банк              7549\n",
       "Тинькофф Банк                 5387\n",
       "Национальный Банк «Траст»     4607\n",
       "Ренессанс Кредит              3849\n",
       "Связной Банк                  3775\n",
       "ОТП Банк                      3237\n",
       "Name: text, dtype: int64"
      ]
     },
     "execution_count": 73,
     "metadata": {},
     "output_type": "execute_result"
    }
   ],
   "source": [
    "df.groupby(by='bank_name').count().sort_values(by='text', ascending=False)['text'][:10]"
   ]
  },
  {
   "cell_type": "code",
   "execution_count": null,
   "metadata": {},
   "outputs": [],
   "source": []
  },
  {
   "cell_type": "code",
   "execution_count": null,
   "metadata": {},
   "outputs": [],
   "source": []
  },
  {
   "cell_type": "code",
   "execution_count": null,
   "metadata": {},
   "outputs": [],
   "source": []
  },
  {
   "cell_type": "code",
   "execution_count": null,
   "metadata": {},
   "outputs": [],
   "source": []
  },
  {
   "cell_type": "code",
   "execution_count": null,
   "metadata": {},
   "outputs": [],
   "source": []
  },
  {
   "cell_type": "code",
   "execution_count": null,
   "metadata": {},
   "outputs": [],
   "source": []
  },
  {
   "cell_type": "code",
   "execution_count": null,
   "metadata": {},
   "outputs": [],
   "source": []
  },
  {
   "cell_type": "code",
   "execution_count": null,
   "metadata": {},
   "outputs": [],
   "source": []
  },
  {
   "cell_type": "code",
   "execution_count": 53,
   "metadata": {},
   "outputs": [
    {
     "name": "stdout",
     "output_type": "stream",
     "text": [
      "Был крайне удивлён новостью от 27/28 мая - об  унификации . \"Удивлён\" - это, пожалуй, плохо подходит, так как отражает положительную эмоцию. Я же был, скорее, ошарашен и удручён. Считаю данную  унификацию  неправомерной и незаконной. Незаконность постараюсь доказывать и отстаивать свои права (как одна из сторон акцептованного договора). Допускаю, что дело будет проиграно. Но и роль терпилы, молча принимающего такой разворот событий, мне претит. Если всё же данные действия банка будут сочтены правомерными, то постараюсь со своей стороны применять в отношении банка тоже вполне законные, но, скажем так, некрасивые действия. Кстати, для справки, невозврат взятого кредита, тоже признается законным при некоторых оговорках.\n",
      "Сотрудники банка Восточный систематически сообщаю мои персональные данные по телефону моим близким. Звонят не представляясь и в грубой форме сообщаю всю персональную информацию, что является нарушением закона №98-ФЗ о коммерческой тайне. Так же это может очень негативно сказаться на состоянии здоровья моего близкого человека. С банком я поддерживаю постоянную связь, были проблемы с оплатой очередных платежей, по причине ухудшения материального положения, но я всегда сообщаю о размере и дате взноса, добросовестно. Общаюсь с сотрудником из г. Пермь, который обещал отменить начисленные штрафы после погашения просроченной задолженности, но не сделал этого. Звонки поступают не известно откуда.\n",
      "Добрый день! Являюсь заемщиком в Банке ВТБ 24. Более года назад взяла кредит на 1 млн. руб, платила исправно до мая месяца 2015 года.В связи  с ухудшением материального положения-я поменяла работу и сейчас моя заработная плата составляет 15 000 руб, а ежемесячный платеж по кредиту-32 000 руб. Об ухудшении материального положения уведомляла Банк за 2 месяца, есть письма с отметкой Банка о получении. Я не отказываюсь платить, более того, есть шанс, что в ближайшие 2-3 года мое материальное положение значительно улучшиться и у меня будет возможность гасить кредит в полной мере. Но на данный момент ситуация такая, какая есть. Обратилась в Банк за помощью, предложили просрочить платеж, так как заранее , до появления просрочки, Банк не рассматривает возможность реструктуризации. Не так давно у меня изменились контакты, так же уведомила об этом Банк. Скрываться не собираюсь и платить не отказываюсь. Но ситуация у меня патовая-платить нечем и Банк пока не идет на встречу. Я прошу помочь мне в данной ситуации. Прошу согласовать посильную для меня сумму ежемесячного платежа. Прошу помочь с решением данной ситуации. Я в отчаянии, ситуация безвыходная. Оббиваю пороги Банка по несколько раз в месяц. Готова к диалогу, готова искать решения. Прошу Банк помочь мне в решении данной проблемы.\n",
      "Вот даже и засомневалась, какую ставить оценку... в итоге пишу без неё. Являюсь клиентом Альфа-Банка с 2012 года. Взяла тогда кредит наличными. Погашаю его, в т.ч. частично-досрочными суммами. Потом мне выпустили кредитную карту, на весьма выгодных условиях. Ей я тоже пользуюсь и вношу платежи. И вот на днях звонит мне девушка и говорит, что у меня просрочка. Я, оставаясь с ней на связи, лезу в яндекс.деньги и проверяю: карта и кредит оплачены. И тут она мне выдаёт: \"У Вас в нашем банке 3(!) кредитных продукта! В апреле 2014 Вы брали потребительский кредит на продукт\". Я в шоке, т.к. никаких кредитов в Альфе я больше не брала. Мне говорят, что нужно прийти в отделение и написать претензию. Кладу трубку. Вспоминаю: в апреле прошлого года я подавала заявку на кредит в мотосалон, ну как заявку, мини-анкетку через сайт, с 20% первоначального взноса. Позже мне перезвонили и сказали, что она одобрена. Но к тому моменту я нашла другой вариант, у знакомых, и договорилась о рассрочке. Из салона звонили дважды. Дважды я подтверждала свой отказ. Я туда даже не ездила! И уж тем более ничего не подписывала. Так что остаюсь спокойна, но приятного всё равно мало. Вчера пришла в банк. Написала претензию №1506041400. Сегодня пришла смс-ка, что по претензии принято отрицательное решение. Вот и что мне теперь делать? Тратить своё время, идти в суд? Т.к. я ничего не подписывала и не брала, тут я спокойна. Но вот эти все \"развлечения\", внезапно свалившиеся на голову не радуют. Я в шоке. До сих пор была крайне довольна Альфа-Банком.\n",
      "Добрый день! Ещё 19 апреля 2015 года я пыталась сделать платёж через систему \"Бинбанк24\", в результате чего с карты была списана сумма перевода+50р.+1% от суммы, но платёж был забракован. Сталкиваясь с подобным не в первый раз, я смиренно ожидала двое суток, пока мои деньги не вернутся обратно. Деньги действительно пришли, все, кроме 1%. Возмущённая тем, что за, по сути, не оказанную услугу комиссия не была возвращена в полном объёме (чего раньше никогда не было), я обратилась в онлайн-поддержку, где оператор мне сообщил, что действительно комиссия должна была вернуться полностью, и он не понимает, почему этого не произошло.  Вообще, отвлекаясь от темы, хочется высказать своё возмущение абсолютной некомпетентностью работы онлайн-операторов. Во-первых, мне кажется, что мы с ними со всеми скоро будем дружить семьями, ибо за мои бесчисленные обращения в онлайн-поддержку мне попадались одни и те же 2-3 оператора, которые, судя по ответам в 10-15 минут (один раз меня даже выкинуло из чата за просрочку ожидания) либо, придя на работу, успевают выспаться между ответами клиенту, либо, наоборот, своим малочисленным составом обслуживают сразу всю Россию, в чём тоже для меня, как для клиента, мало приятного, т.к. человек я занятой, и не всегда есть время для подобных «задушевных бесед».  Во-вторых, когда с ними беседуешь, складывается впечатление, что не они - работники банка, а я, потому что это я, а не они, им объясняю, как и что должно быть на самом деле вместо того, что существует сейчас. Абсолютное незнание законов и правил работы в данной сфере. Вы их там, пожалуйста, подтяните по мат. части, так сказать, потому что каждый раз после обращения в онлайн-поддержку хочется разорвать с данным банком все отношения, хотя я являюсь Вашим клиентом уже более 3 лет, ещё со времён «ПриватБанка», в своё время, придя именно на (на тот момент) одну из лучших систем онлайн-банкинга (на мой взгляд, опять же). Операторы в офисных центрах (живу я в г. Воронеже) мне больше нравятся. За мои многочисленные визиты в различные отделения города (быть может, мне просто повезло) у меня возникало всего пара нареканий. Дай Бог, чтобы хоть в этом ничего не изменилось. Так вот, возвращаясь к моему вопросу, после двухчасовой беседы с оператором, мне всё же была оформлена заявка на возврат комиссии и заявлено, что она будет рассмотрена в течение 3 дней. Но, по истечению этого срока, ни смс, ни звонка, ни какого-либо иного уведомления о результатах рассмотрения, которые мне были обещаны, я не получила. Тогда я снова обратилась к онлайн-оператору, который, опять же, после долгой беседы повторно отправил заявку на возврат денег, на сей раз, сказав, чтобы я подождала на всякий случай 7 дней для рассмотрения. Но, ни после 7, ни после 10 дней проблема так и не была решена. Тогда я уже пошла в сам офис, где мне повторно оформили заявку на возврат, но с тех пор история всё никак не может закончиться. Никаких уведомлений, ни, тем более, денег, я не вижу вот уже полтора месяца.  В связи с этим у меня есть вопрос: КОГДА УЖЕ МНЕ ВЕРНУТ  КОМИССИЮ ЗА ЗАБРАКОВАННЫЙ ПЛАТЁЖ?  На Вашу почту   binbank@binbank.ru  со своей почты  ya.margo212121@yandex.ru  с пометкой «Возвращение комиссии по забракованному платежу» высылаю вам детали того злополучного перевода в надежде на скорое решение проблемы.   И ещё один момент, на который я хочу обратить внимание специалистов банка. В последние пару месяцев я стала замечать странные события. После списания кредитных средств с кредитной карты (при оплате в магазине, например), на счету остаются непонятные мне суммы, не сопоставимые с размером моей оплаты, как ни странно, в мою пользу. Например, доступных средств должно остаться 5000 рублей, а остаётся 5500 рублей, иногда даже с какими-то копейками, которых там и в помине быть не должно. Т.е. каждый раз приписывают по 500-700 рублей, о чём приходит соответствующее уведомление (т.е. при оплате услуг приходит смс с неправильным остатком), и в системе «Бинбанк24» сумма также отображается некорректно. Так данная некорректная сумма (всегда с плюсом в мою пользу) может «провисеть» 7-10 дней, а потом заново пересчитаться уже правильно.  Я довольно щепетильный к деньгам человек, и все чеки с покупок и оплат я собираю, т.о. имея возможность проследить, в какой момент сумма была начислена неправильно во избежание просрочки задолженности. В принципе, кредитной картой я пользуюсь только в качестве карты предоплаты, для того, чтобы не носить с собой много наличных средств, и всегда пополняю её практически сразу (в течение нескольких дней). А вот тем людям, которые привыкли ориентироваться на смс или на записи и чеки в системе «Бинбанк24» (которые тоже обновляются через раз), и оплачивают свой кредит прямо перед днём завершения периода беспроцентного кредитования, стоит быть осторожными. Ведь, не подсчитав заранее сумму задолженности по бумажным выпискам из магазинов, они легко могут стать невольными должниками, т.к. сумму им сначала припишут, а потом незаметно также и отнимут, человек будет думать, что он всё оплатил, и, как результат, - лишние проблемы и у клиента, и у банка. Не хочется думать о том, что т.о. Вы искусственно повышаете количество должников и процентную прибыль банка. В общем, проконтролируйте это. Заранее благодарю за, надеюсь, позитивное решение моего вопроса!\n",
      "Разбавлю негативные отзывы ложкой меда.   Благодарен Банку за постоянно работающий единственный в городе круглосуточный банкомат с функцией cash-in, входящий в ОРС. Несмотря на отсутствие филиала/ККО в городе.  Пожелания: придумайте какой-нибудь козырек/навес для тени, потому что в солнечную погоду, а тем более летом, экран засвечивается. Приходится стоять вплотную, что затрудняет поиск нужной кнопки.\n",
      "Без оценки, т.к. несколько лет отличной работы и три компании в Альфе и ни разу небыло проблем, но все когдато заканчивается. Сделали оплату транспортной компании в Республику Беларусь 1000руб за мелкую доставку (договор, отправленный в банк, претензий не вызвал и банк оплату провел). Сделка была единственная и случайная, где перевозчик оказался Белорусским, а оплату за услугу сделать было нужно. Далее банк инициирует включение нашей компании в реестр компаний, работающих на внешнем рынке. Несколько раз звонил менеджер, которому несколько раз сказали, что это сделка единственная и мы не работаем с зарубежными компаниями и не собираемся. Далее звонили из службы безопасности, они хотели посетить наш офис, чтобы посмотреть какието бумаги, тут мы сдались и пригласили их (видимо это было ошибкой и нужно было продолжать настаивать, что мы работаем только на территории РФ).  Звонков от СБ больше небыло. Через некоторое время происходит блокировка банк-клиента. Спустя несколько дней удалось выяснить, что СБ заблокировала с комментарием \"нет признаков внешнеэкономической деятельности и наша компания портит репутацию Альфа-Банка\" (какие тут могут быть комментарии, кроме \"А мы не говорили (и не один раз) разве, что внешнеэкономической деятельностью не занимаемся и сделка была разовая? И как мы испортили эту репутацию?\"). Спустя 3 недели попыток выйти на СБ и както повлиять на решение ничем не увенчалось. Конечно мы открыли новый счет в другом банке и будем все компании уводить из Альфы, что очень обидно, не ожидали за столько лет сотрудничества с таким столкнуться.\n",
      "Также как и многие давний клиент банка, был доволен в высшей степени. Сколько друзей и знакомых привел - даже не сосчитать. Большинство сотрудников моей компании перешли на зарплатный проект в Тинькофф. Практически все друзья завели себе карты и вклады. Но то, что творится в последнее время просто шокирует меня: 1) \"Унификация\" вкладов. В страшном сне не могло присниться, что могут снизить проценты на пополнение вклада (с 18 до 13%). Ответ по этому пункту читал. Могли бы тогда разрешить беспроцентно закрыть вклады, которые были открыты хотя бы в апреле перед сильным снижением. В декабре поверил банку и не стал открывать в других банках под более выгодные проценты (Совкомбанк, к примеру, не менее надежный банк, давал 25%, то есть 22,637 с учётом налога)..  2) Заметил, что из отзывов удаляют \"неугодные\" комментарии, касающиеся понижения ставок и ответы представителей банка полугодовой давности о недопустимости снижения ставки на пополнение (с портала вопрос-ответ информация также была стёрта). и отключают дистанционное обслуживание.  3) Сегодня подал заявку на выпуск карты All Airlines. Сообщили, что выпустят в самое ближайшее время(крайний срок - понедельник). И закрыли текущую карту. Через час со мной связался сотрудник и сообщил, что по техническим причинам выпустить карту в ближайшее время не представляется возможным. На что я попросил разблокировать текущую кредитную карту так как на выходных планировал покупать билеты на летний отдых. Сказали, что разблокировка не возможна. Супер... Хотел конечно поставить 1, однако воспоминания о хорошем прошлом не позволяют. Но и более 2-ки тоже не могу, так как уж очень расстроили.\n"
     ]
    }
   ],
   "source": [
    "for i in range(7,15):\n",
    "    print(df.text.iloc[i])"
   ]
  },
  {
   "cell_type": "code",
   "execution_count": 54,
   "metadata": {},
   "outputs": [],
   "source": [
    "# добавить названия банков в стопслова после лематизации названий и корпуса"
   ]
  },
  {
   "cell_type": "markdown",
   "metadata": {},
   "source": [
    "## Часть 2. Тематическое моделирование [20/100]\n",
    "\n",
    "1. Постройте несколько тематических моделей коллекции документов с разным числом тем. Приведите примеры понятных (интерпретируемых) тем.\n",
    "2. Найдите темы, в которых упомянуты конкретные банки (Сбербанк, ВТБ, другой банк). Можете ли вы их прокомментировать / объяснить?\n",
    "\n",
    "Эта часть задания может быть сделана с использованием gensim. "
   ]
  },
  {
   "cell_type": "markdown",
   "metadata": {},
   "source": [
    "## Часть 3. Классификация текстов [40/100]\n",
    "\n",
    "Сформулируем для простоты задачу бинарной классификации: будем классифицировать на два класса, то есть, различать резко отрицательные отзывы (с оценкой 1) и положительные отзывы (с оценкой 5). \n",
    "\n",
    "1.  Составьте обучающее и тестовое множество: выберите из всего набора данных N1 отзывов с оценкой 1 и N2 отзывов с оценкой 5 (значение N1 и N2 – на ваше усмотрение). Используйте ```sklearn.model_selection.train_test_split``` для разделения множества отобранных документов на обучающее и тестовое. \n",
    "2. Используйте любой известный вам алгоритм классификации текстов для решения задачи и получите baseline. Сравните разные варианты векторизации текста: использование только униграм, пар или троек слов или с использованием символьных $n$-грам. \n",
    "3. Сравните, как изменяется качество решения задачи при использовании скрытых тем в качестве признаков:\n",
    "* 1-ый вариант: $tf-idf$ преобразование (```sklearn.feature_extraction.text.TfidfTransformer```) и сингулярное разложение (оно же – латентый семантический анализ) (```sklearn.decomposition.TruncatedSVD```), \n",
    "* 2-ой вариант: тематические модели LDA (```sklearn.decomposition.LatentDirichletAllocation```). \n",
    "\n",
    "Используйте accuracy и F-measure для оценки качества классификации. \n",
    "\n",
    "Ниже написан примерный Pipeline для классификации текстов. \n",
    "\n",
    "Эта часть задания может быть сделана с использованием sklearn. "
   ]
  },
  {
   "cell_type": "code",
   "execution_count": 5,
   "metadata": {
    "collapsed": true
   },
   "outputs": [
    {
     "ename": "NameError",
     "evalue": "name 'CountVectorizer' is not defined",
     "output_type": "error",
     "traceback": [
      "\u001b[0;31m---------------------------------------------------------------------------\u001b[0m",
      "\u001b[0;31mNameError\u001b[0m                                 Traceback (most recent call last)",
      "\u001b[0;32m<ipython-input-5-77be54944135>\u001b[0m in \u001b[0;36m<module>\u001b[0;34m()\u001b[0m\n\u001b[1;32m      4\u001b[0m \u001b[0;34m\u001b[0m\u001b[0m\n\u001b[1;32m      5\u001b[0m clf = Pipeline([ \n\u001b[0;32m----> 6\u001b[0;31m     \u001b[0;34m(\u001b[0m\u001b[0;34m'vect'\u001b[0m\u001b[0;34m,\u001b[0m \u001b[0mCountVectorizer\u001b[0m\u001b[0;34m(\u001b[0m\u001b[0;34m)\u001b[0m\u001b[0;34m)\u001b[0m\u001b[0;34m,\u001b[0m\u001b[0;34m\u001b[0m\u001b[0m\n\u001b[0m\u001b[1;32m      7\u001b[0m     \u001b[0;34m(\u001b[0m\u001b[0;34m'tfidf'\u001b[0m\u001b[0;34m,\u001b[0m \u001b[0mTfidfTransformer\u001b[0m\u001b[0;34m(\u001b[0m\u001b[0;34m)\u001b[0m\u001b[0;34m)\u001b[0m\u001b[0;34m,\u001b[0m\u001b[0;34m\u001b[0m\u001b[0m\n\u001b[1;32m      8\u001b[0m     \u001b[0;34m(\u001b[0m\u001b[0;34m'tm'\u001b[0m\u001b[0;34m,\u001b[0m \u001b[0mTruncatedSVD\u001b[0m\u001b[0;34m(\u001b[0m\u001b[0;34m)\u001b[0m\u001b[0;34m)\u001b[0m\u001b[0;34m,\u001b[0m\u001b[0;34m\u001b[0m\u001b[0m\n",
      "\u001b[0;31mNameError\u001b[0m: name 'CountVectorizer' is not defined"
     ]
    }
   ],
   "source": [
    "from sklearn.pipeline import Pipeline\n",
    "from sklearn.ensemble import RandomForestClassifier\n",
    "\n",
    "# !!! На каждом этапе Pipeline нужно указать свои параметры\n",
    "# 1-ый вариант: tf-idf + LSI\n",
    "# 2-ой вариант: LDA\n",
    "\n",
    "# clf = Pipeline([\n",
    "#     ('vect', CountVectorizer(analyzer = 'char', ngram_range={4,6})),\n",
    "#     ('clf', RandomForestClassifier()),\n",
    "# ])\n",
    "\n",
    "\n",
    "\n",
    "clf = Pipeline([ \n",
    "    ('vect', CountVectorizer()), \n",
    "    ('tfidf', TfidfTransformer()), \n",
    "    ('tm', TruncatedSVD()), \n",
    "    ('clf', RandomForestClassifier())\n",
    "])\n"
   ]
  }
 ],
 "metadata": {
  "kernelspec": {
   "display_name": "Python 3",
   "language": "python",
   "name": "python3"
  },
  "language_info": {
   "codemirror_mode": {
    "name": "ipython",
    "version": 3
   },
   "file_extension": ".py",
   "mimetype": "text/x-python",
   "name": "python",
   "nbconvert_exporter": "python",
   "pygments_lexer": "ipython3",
   "version": "3.7.3"
  }
 },
 "nbformat": 4,
 "nbformat_minor": 2
}
